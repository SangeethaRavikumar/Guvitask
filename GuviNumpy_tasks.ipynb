{
  "cells": [
    {
      "cell_type": "markdown",
      "metadata": {
        "id": "view-in-github",
        "colab_type": "text"
      },
      "source": [
        "<a href=\"https://colab.research.google.com/github/SangeethaRavikumar/Guvitask/blob/main/GuviNumpy_tasks.ipynb\" target=\"_parent\"><img src=\"https://colab.research.google.com/assets/colab-badge.svg\" alt=\"Open In Colab\"/></a>"
      ]
    },
    {
      "cell_type": "markdown",
      "metadata": {
        "id": "gxUXOLiLrMTT"
      },
      "source": [
        "# Numpy\n",
        "\n"
      ]
    },
    {
      "cell_type": "markdown",
      "metadata": {
        "id": "Kkdn3x85rMTW"
      },
      "source": [
        "#### 1. Import the numpy package under the name `np` (★☆☆) \n",
        "(**hint**: import … as …)"
      ]
    },
    {
      "cell_type": "code",
      "execution_count": null,
      "metadata": {
        "collapsed": true,
        "id": "hutnvp0krMTW"
      },
      "outputs": [],
      "source": [
        "import numpy as np"
      ]
    },
    {
      "cell_type": "markdown",
      "metadata": {
        "id": "rBWbudgKrMTX"
      },
      "source": [
        "#### 2. Print the numpy version and the configuration (★☆☆) \n",
        "(**hint**: np.\\_\\_version\\_\\_, np.show\\_config)"
      ]
    },
    {
      "cell_type": "code",
      "execution_count": null,
      "metadata": {
        "id": "bobAchArrMTX",
        "colab": {
          "base_uri": "https://localhost:8080/"
        },
        "outputId": "9bb4f508-86de-4580-d808-973b8046c77a"
      },
      "outputs": [
        {
          "output_type": "stream",
          "name": "stdout",
          "text": [
            "1.21.6\n",
            "<function show at 0x7f8d83ede5e0>\n"
          ]
        }
      ],
      "source": [
        "print(np.__version__)\n",
        "print(np.show_config)"
      ]
    },
    {
      "cell_type": "markdown",
      "metadata": {
        "id": "m9uY3ffmrMTY"
      },
      "source": [
        "#### 3. Create a null vector of size 10 (★☆☆) \n",
        "(**hint**: np.zeros)"
      ]
    },
    {
      "cell_type": "code",
      "execution_count": null,
      "metadata": {
        "id": "SuMz9rJGrMTY",
        "colab": {
          "base_uri": "https://localhost:8080/"
        },
        "outputId": "f4d4891a-15eb-4a79-ba09-4cadf429c526"
      },
      "outputs": [
        {
          "output_type": "stream",
          "name": "stdout",
          "text": [
            "[0. 0. 0. 0. 0. 0. 0. 0. 0. 0.]\n"
          ]
        }
      ],
      "source": [
        "x = np.zeros(10)\n",
        "print(x)"
      ]
    },
    {
      "cell_type": "markdown",
      "metadata": {
        "id": "ucCN0VgJrMTY"
      },
      "source": [
        "#### 4.  How to find the memory size of any array (★☆☆) \n",
        "(**hint**: size, itemsize)"
      ]
    },
    {
      "cell_type": "code",
      "execution_count": null,
      "metadata": {
        "id": "tVqJomogrMTZ",
        "colab": {
          "base_uri": "https://localhost:8080/"
        },
        "outputId": "d16384dd-748b-4f76-be5d-90b61fa82a45"
      },
      "outputs": [
        {
          "output_type": "stream",
          "name": "stdout",
          "text": [
            "10\n",
            "8\n"
          ]
        }
      ],
      "source": [
        "print(x.size)\n",
        "print(x.itemsize)"
      ]
    },
    {
      "cell_type": "markdown",
      "metadata": {
        "id": "yGdhnnmYrMTZ"
      },
      "source": [
        "#### 5.  How to get the documentation of the numpy add function from the command line? (★☆☆) \n",
        "(**hint**: np.info)"
      ]
    },
    {
      "cell_type": "code",
      "execution_count": null,
      "metadata": {
        "collapsed": true,
        "id": "lQ_bDFq4rMTZ",
        "colab": {
          "base_uri": "https://localhost:8080/"
        },
        "outputId": "fbca287e-c3b8-48aa-fb45-67e7c2183bce"
      },
      "outputs": [
        {
          "output_type": "stream",
          "name": "stdout",
          "text": [
            "add(x1, x2, /, out=None, *, where=True, casting='same_kind', order='K', dtype=None, subok=True[, signature, extobj])\n",
            "\n",
            "Add arguments element-wise.\n",
            "\n",
            "Parameters\n",
            "----------\n",
            "x1, x2 : array_like\n",
            "    The arrays to be added.\n",
            "    If ``x1.shape != x2.shape``, they must be broadcastable to a common\n",
            "    shape (which becomes the shape of the output).\n",
            "out : ndarray, None, or tuple of ndarray and None, optional\n",
            "    A location into which the result is stored. If provided, it must have\n",
            "    a shape that the inputs broadcast to. If not provided or None,\n",
            "    a freshly-allocated array is returned. A tuple (possible only as a\n",
            "    keyword argument) must have length equal to the number of outputs.\n",
            "where : array_like, optional\n",
            "    This condition is broadcast over the input. At locations where the\n",
            "    condition is True, the `out` array will be set to the ufunc result.\n",
            "    Elsewhere, the `out` array will retain its original value.\n",
            "    Note that if an uninitialized `out` array is created via the default\n",
            "    ``out=None``, locations within it where the condition is False will\n",
            "    remain uninitialized.\n",
            "**kwargs\n",
            "    For other keyword-only arguments, see the\n",
            "    :ref:`ufunc docs <ufuncs.kwargs>`.\n",
            "\n",
            "Returns\n",
            "-------\n",
            "add : ndarray or scalar\n",
            "    The sum of `x1` and `x2`, element-wise.\n",
            "    This is a scalar if both `x1` and `x2` are scalars.\n",
            "\n",
            "Notes\n",
            "-----\n",
            "Equivalent to `x1` + `x2` in terms of array broadcasting.\n",
            "\n",
            "Examples\n",
            "--------\n",
            ">>> np.add(1.0, 4.0)\n",
            "5.0\n",
            ">>> x1 = np.arange(9.0).reshape((3, 3))\n",
            ">>> x2 = np.arange(3.0)\n",
            ">>> np.add(x1, x2)\n",
            "array([[  0.,   2.,   4.],\n",
            "       [  3.,   5.,   7.],\n",
            "       [  6.,   8.,  10.]])\n",
            "\n",
            "The ``+`` operator can be used as a shorthand for ``np.add`` on ndarrays.\n",
            "\n",
            ">>> x1 = np.arange(9.0).reshape((3, 3))\n",
            ">>> x2 = np.arange(3.0)\n",
            ">>> x1 + x2\n",
            "array([[ 0.,  2.,  4.],\n",
            "       [ 3.,  5.,  7.],\n",
            "       [ 6.,  8., 10.]])\n",
            "None\n"
          ]
        }
      ],
      "source": [
        "print(np.info(np.add))"
      ]
    },
    {
      "cell_type": "markdown",
      "metadata": {
        "id": "ZeJycbbzrMTZ"
      },
      "source": [
        "#### 6.  Create a null vector of size 10 but the fifth value which is 1 (★☆☆) \n",
        "(**hint**: array\\[4\\])"
      ]
    },
    {
      "cell_type": "code",
      "execution_count": null,
      "metadata": {
        "id": "0ed-pdTPrMTa"
      },
      "outputs": [],
      "source": [
        "x = np.zeros(10)\n",
        "x[4] = 1"
      ]
    },
    {
      "cell_type": "markdown",
      "metadata": {
        "id": "YfvMXM2LrMTa"
      },
      "source": [
        "#### 7.  Create a vector with values ranging from 10 to 49 (★☆☆) \n",
        "(**hint**: np.arange)"
      ]
    },
    {
      "cell_type": "code",
      "execution_count": null,
      "metadata": {
        "id": "F8pMtgsorMTa",
        "colab": {
          "base_uri": "https://localhost:8080/"
        },
        "outputId": "cdd3cff0-e28e-44c2-f00b-988bbe820206"
      },
      "outputs": [
        {
          "output_type": "stream",
          "name": "stdout",
          "text": [
            "[10 11 12 13 14 15 16 17 18 19 20 21 22 23 24 25 26 27 28 29 30 31 32 33\n",
            " 34 35 36 37 38 39 40 41 42 43 44 45 46 47 48]\n"
          ]
        }
      ],
      "source": [
        "x = np.arange(10,49)\n",
        "print(x)"
      ]
    },
    {
      "cell_type": "markdown",
      "metadata": {
        "id": "sxpAIA9zrMTa"
      },
      "source": [
        "#### 8.  Reverse a vector (first element becomes last) (★☆☆) \n",
        "(**hint**: array\\[::-1\\])"
      ]
    },
    {
      "cell_type": "code",
      "execution_count": null,
      "metadata": {
        "id": "1hJBoqPFrMTa",
        "colab": {
          "base_uri": "https://localhost:8080/"
        },
        "outputId": "11778d6f-eaec-495d-b8f0-503937310f49"
      },
      "outputs": [
        {
          "output_type": "stream",
          "name": "stdout",
          "text": [
            "[5 4 3 2 1]\n"
          ]
        }
      ],
      "source": [
        "x = np.array([1,2,3,4,5])\n",
        "ans = np.flip(x)\n",
        "print(ans)\n"
      ]
    },
    {
      "cell_type": "markdown",
      "metadata": {
        "id": "OSN-iuyvrMTa"
      },
      "source": [
        "#### 9.  Create a 3x3 matrix with values ranging from 0 to 8 (★☆☆) \n",
        "(**hint**: reshape)"
      ]
    },
    {
      "cell_type": "code",
      "execution_count": null,
      "metadata": {
        "id": "HKKrDFG_rMTa",
        "colab": {
          "base_uri": "https://localhost:8080/"
        },
        "outputId": "12157b31-484b-44f7-b06c-c9393c6bb283"
      },
      "outputs": [
        {
          "output_type": "stream",
          "name": "stdout",
          "text": [
            "[[0 1 2]\n",
            " [3 4 5]\n",
            " [6 7 8]]\n"
          ]
        }
      ],
      "source": [
        "x = np.arange(0,9).reshape(3,3)\n",
        "print(x)"
      ]
    },
    {
      "cell_type": "markdown",
      "metadata": {
        "id": "iiwUh_90rMTa"
      },
      "source": [
        "10. Find indices of non-zero elements from \\[1,2,0,0,4,0\\] (★☆☆) \n",
        "(**hint**: np.nonzero)"
      ]
    },
    {
      "cell_type": "code",
      "execution_count": null,
      "metadata": {
        "id": "TKTMyPQNrMTb",
        "colab": {
          "base_uri": "https://localhost:8080/"
        },
        "outputId": "317bcbaf-3405-4024-9e33-cbd834536874"
      },
      "outputs": [
        {
          "output_type": "execute_result",
          "data": {
            "text/plain": [
              "(array([0, 0, 1]), array([0, 1, 1]))"
            ]
          },
          "metadata": {},
          "execution_count": 16
        }
      ],
      "source": [
        "x = np.array([[1,2,0],[0,4,0]])\n",
        "np.nonzero(x)"
      ]
    },
    {
      "cell_type": "markdown",
      "metadata": {
        "id": "nrCUlR_HrMTb"
      },
      "source": [
        "#### 11. Create a 3x3 identity matrix (★☆☆) \n",
        "(**hint**: np.eye)"
      ]
    },
    {
      "cell_type": "code",
      "execution_count": null,
      "metadata": {
        "id": "Xmp9Klr6rMTb",
        "colab": {
          "base_uri": "https://localhost:8080/"
        },
        "outputId": "c67a3d90-8598-497d-c291-8d9d5ddbb5ea"
      },
      "outputs": [
        {
          "output_type": "execute_result",
          "data": {
            "text/plain": [
              "array([[1., 0., 0.],\n",
              "       [0., 1., 0.],\n",
              "       [0., 0., 1.]])"
            ]
          },
          "metadata": {},
          "execution_count": 17
        }
      ],
      "source": [
        "np.eye(3)"
      ]
    },
    {
      "cell_type": "markdown",
      "metadata": {
        "id": "aEbyKBYwrMTb"
      },
      "source": [
        "#### 12. Create a 3x3x3 array with random values (★☆☆) \n",
        "(**hint**: np.random.random)"
      ]
    },
    {
      "cell_type": "code",
      "execution_count": null,
      "metadata": {
        "collapsed": true,
        "id": "YTqQtF4krMTb",
        "colab": {
          "base_uri": "https://localhost:8080/"
        },
        "outputId": "bd5599e7-91cf-4021-c6aa-a392374a3c55"
      },
      "outputs": [
        {
          "output_type": "stream",
          "name": "stdout",
          "text": [
            "[[[0.1805085  0.62637311 0.69086476]\n",
            "  [0.47543038 0.27367003 0.64065814]\n",
            "  [0.65254133 0.34007739 0.15905655]]\n",
            "\n",
            " [[0.79888098 0.75951985 0.44245787]\n",
            "  [0.87149922 0.00579186 0.55674592]\n",
            "  [0.48242847 0.09411883 0.07027997]]\n",
            "\n",
            " [[0.70028469 0.27014312 0.5216092 ]\n",
            "  [0.62677645 0.85893976 0.20859762]\n",
            "  [0.0728312  0.05470519 0.6235365 ]]]\n"
          ]
        }
      ],
      "source": [
        "import numpy as np\n",
        "x = np.random.random((3,3,3))\n",
        "print(x)"
      ]
    },
    {
      "cell_type": "markdown",
      "metadata": {
        "id": "wYU1UGFArMTb"
      },
      "source": [
        "#### 13. Create a 10x10 array with random values and find the minimum and maximum values (★☆☆) \n",
        "(**hint**: min, max)"
      ]
    },
    {
      "cell_type": "code",
      "execution_count": null,
      "metadata": {
        "id": "2tTVbkz9rMTb",
        "colab": {
          "base_uri": "https://localhost:8080/"
        },
        "outputId": "21dd55f6-cb79-4f9f-a402-b294e802967d"
      },
      "outputs": [
        {
          "output_type": "stream",
          "name": "stdout",
          "text": [
            "0.007867319872836842 0.9936054370341892\n"
          ]
        }
      ],
      "source": [
        "x = np.random.random((10,10))\n",
        "xmin,xmax = x.min(),x.max()\n",
        "print(xmin,xmax)"
      ]
    },
    {
      "cell_type": "markdown",
      "metadata": {
        "id": "6K9xxDP1rMTb"
      },
      "source": [
        "#### 14. Create a random vector of size 30 and find the mean value (★☆☆) \n",
        "(**hint**: mean)"
      ]
    },
    {
      "cell_type": "code",
      "execution_count": null,
      "metadata": {
        "id": "x_RUY7CTrMTb",
        "colab": {
          "base_uri": "https://localhost:8080/"
        },
        "outputId": "757c1b2f-74f8-47a7-af40-8d02b9e597d3"
      },
      "outputs": [
        {
          "output_type": "stream",
          "name": "stdout",
          "text": [
            "0.492459538274409\n"
          ]
        }
      ],
      "source": [
        "x = np.random.random((10,10))\n",
        "ans = x.mean()\n",
        "print(ans)"
      ]
    },
    {
      "cell_type": "markdown",
      "metadata": {
        "id": "3rYDuwh9rMTb"
      },
      "source": [
        "#### 15. Create a 2d array with 1 on the border and 0 inside (★☆☆) \n",
        "(**hint**: array\\[1:-1, 1:-1\\])"
      ]
    },
    {
      "cell_type": "code",
      "execution_count": null,
      "metadata": {
        "id": "JlT2nWrzrMTb",
        "colab": {
          "base_uri": "https://localhost:8080/",
          "height": 105
        },
        "outputId": "facbde3d-0830-4dc3-a8e9-3f5abe9b48ea"
      },
      "outputs": [
        {
          "output_type": "stream",
          "name": "stdout",
          "text": [
            "[[1 1 1 1 1]\n",
            " [1 0 0 0 1]\n",
            " [1 0 0 0 1]\n",
            " [1 1 1 1 1]]\n"
          ]
        },
        {
          "output_type": "execute_result",
          "data": {
            "text/plain": [
              "'x = np.ones((5,5))\\nx[1:-1,1:-1] = 0\\nprint(x)\\n'"
            ],
            "application/vnd.google.colaboratory.intrinsic+json": {
              "type": "string"
            }
          },
          "metadata": {},
          "execution_count": 4
        }
      ],
      "source": [
        "import numpy as np\n",
        "array = np.array([[0,0,0],[0,0,0]])\n",
        "x = np.pad(array,pad_width=1,mode = 'constant',constant_values=1)\n",
        "print(x)\n",
        "\n",
        "'''x = np.ones((5,5))\n",
        "x[1:-1,1:-1] = 0\n",
        "print(x)\n",
        "'''"
      ]
    },
    {
      "cell_type": "markdown",
      "metadata": {
        "id": "alR64S2drMTc"
      },
      "source": [
        "#### 16. How to add a border (filled with 0's) around an existing array? (★☆☆) \n",
        "(**hint**: np.pad)"
      ]
    },
    {
      "cell_type": "code",
      "execution_count": null,
      "metadata": {
        "id": "fV08Gk0hrMTc",
        "colab": {
          "base_uri": "https://localhost:8080/"
        },
        "outputId": "6077fba1-290b-4492-a5b6-49638f43e9d9"
      },
      "outputs": [
        {
          "output_type": "stream",
          "name": "stdout",
          "text": [
            "[[0. 0. 0. 0. 0. 0. 0.]\n",
            " [0. 1. 1. 1. 1. 1. 0.]\n",
            " [0. 1. 1. 1. 1. 1. 0.]\n",
            " [0. 1. 1. 1. 1. 1. 0.]\n",
            " [0. 1. 1. 1. 1. 1. 0.]\n",
            " [0. 1. 1. 1. 1. 1. 0.]\n",
            " [0. 0. 0. 0. 0. 0. 0.]]\n"
          ]
        }
      ],
      "source": [
        "x = np.ones((5,5))\n",
        "x = np.pad(x,pad_width = 1,mode = 'constant',constant_values = 0)\n",
        "print(x)"
      ]
    },
    {
      "cell_type": "markdown",
      "metadata": {
        "id": "vBQJVly8rMTc"
      },
      "source": [
        "#### 17. What is the result of the following expression? (★☆☆) \n",
        "(**hint**: NaN = not a number, inf = infinity)"
      ]
    },
    {
      "cell_type": "markdown",
      "metadata": {
        "id": "nc0nzYROrMTc"
      },
      "source": [
        "```python\n",
        "0 * np.nan\n",
        "np.nan == np.nan\n",
        "np.inf > np.nan\n",
        "np.nan - np.nan\n",
        "0.3 == 3 * 0.1\n",
        "```"
      ]
    },
    {
      "cell_type": "code",
      "execution_count": null,
      "metadata": {
        "id": "6jHAhZkcrMTc",
        "colab": {
          "base_uri": "https://localhost:8080/"
        },
        "outputId": "ede6f99e-b278-40c8-c8eb-86488da7f9e9"
      },
      "outputs": [
        {
          "output_type": "stream",
          "name": "stdout",
          "text": [
            "nan\n",
            "False\n",
            "False\n",
            "nan\n",
            "False\n"
          ]
        }
      ],
      "source": [
        "print(0*np.nan)\n",
        "print(np.nan == np.nan)\n",
        "print(np.inf > np.nan)\n",
        "print(np.nan - np.nan)\n",
        "print(0.3 == 3 * 0.1)"
      ]
    },
    {
      "cell_type": "markdown",
      "metadata": {
        "id": "en2yyvsXrMTc"
      },
      "source": [
        "#### 18. Create a 5x5 matrix with values 1,2,3,4 just below the diagonal (★☆☆) \n",
        "(**hint**: np.diag)"
      ]
    },
    {
      "cell_type": "code",
      "execution_count": null,
      "metadata": {
        "id": "M6Z3A9PWrMTc",
        "colab": {
          "base_uri": "https://localhost:8080/"
        },
        "outputId": "616e9f61-333f-4d16-974f-9315345e0328"
      },
      "outputs": [
        {
          "output_type": "stream",
          "name": "stdout",
          "text": [
            "[[0 0 0 0 0]\n",
            " [1 0 0 0 0]\n",
            " [0 2 0 0 0]\n",
            " [0 0 3 0 0]\n",
            " [0 0 0 4 0]]\n"
          ]
        }
      ],
      "source": [
        "x = np.diag(1 + np.arange(4),k = -1)\n",
        "print(x)"
      ]
    },
    {
      "cell_type": "markdown",
      "metadata": {
        "id": "MPOZwPOirMTc"
      },
      "source": [
        "#### 19. Create a 8x8 matrix and fill it with a checkerboard pattern (★☆☆) \n",
        "(**hint**: array\\[::2\\])"
      ]
    },
    {
      "cell_type": "code",
      "execution_count": null,
      "metadata": {
        "id": "m0d_QurfrMTc",
        "colab": {
          "base_uri": "https://localhost:8080/"
        },
        "outputId": "6e8295ce-c8b8-43ba-fd0f-46dd5f57ce26"
      },
      "outputs": [
        {
          "output_type": "stream",
          "name": "stdout",
          "text": [
            "[[0 1 0 1 0 1 0 1]\n",
            " [1 0 1 0 1 0 1 0]\n",
            " [0 1 0 1 0 1 0 1]\n",
            " [1 0 1 0 1 0 1 0]\n",
            " [0 1 0 1 0 1 0 1]\n",
            " [1 0 1 0 1 0 1 0]\n",
            " [0 1 0 1 0 1 0 1]\n",
            " [1 0 1 0 1 0 1 0]]\n"
          ]
        }
      ],
      "source": [
        "x = np.zeros((8,8),dtype = int)\n",
        "x[1::2,::2] = 1\n",
        "x[::2,1::2] = 1\n",
        "print(x)"
      ]
    },
    {
      "cell_type": "markdown",
      "metadata": {
        "id": "2-1QeTu_rMTc"
      },
      "source": [
        "#### 20. Consider a (6,7,8) shape array, what is the index (x,y,z) of the 100th element? \n",
        "(**hint**: np.unravel_index)"
      ]
    },
    {
      "cell_type": "code",
      "execution_count": null,
      "metadata": {
        "id": "SKD1OwGurMTc",
        "colab": {
          "base_uri": "https://localhost:8080/"
        },
        "outputId": "f71ec1c2-51c4-4934-9fff-801dc6742115"
      },
      "outputs": [
        {
          "output_type": "stream",
          "name": "stdout",
          "text": [
            "(1, 5, 4)\n"
          ]
        }
      ],
      "source": [
        "print(np.unravel_index(100,(6,7,8)))"
      ]
    },
    {
      "cell_type": "markdown",
      "metadata": {
        "id": "6c17Y6wIrMTc"
      },
      "source": [
        "#### 21. Create a checkerboard 8x8 matrix using the tile function (★☆☆) \n",
        "(**hint**: np.tile)"
      ]
    },
    {
      "cell_type": "code",
      "execution_count": null,
      "metadata": {
        "id": "7vN0MGGVrMTd",
        "colab": {
          "base_uri": "https://localhost:8080/"
        },
        "outputId": "4db7209a-5f4c-4a2a-d64d-977eb1126719"
      },
      "outputs": [
        {
          "output_type": "stream",
          "name": "stdout",
          "text": [
            "[[0 1 0 1 0 1 0 1]\n",
            " [1 0 1 0 1 0 1 0]\n",
            " [0 1 0 1 0 1 0 1]\n",
            " [1 0 1 0 1 0 1 0]\n",
            " [0 1 0 1 0 1 0 1]\n",
            " [1 0 1 0 1 0 1 0]\n",
            " [0 1 0 1 0 1 0 1]\n",
            " [1 0 1 0 1 0 1 0]]\n"
          ]
        }
      ],
      "source": [
        "x = np.tile([[0,1],[1,0]],(4,4))\n",
        "print(x)"
      ]
    },
    {
      "cell_type": "markdown",
      "metadata": {
        "id": "50Yj_YEPrMTd"
      },
      "source": [
        "#### 22. Normalize a 5x5 random matrix (★☆☆) \n",
        "(**hint**: (x - min) / (max - min))"
      ]
    },
    {
      "cell_type": "code",
      "execution_count": null,
      "metadata": {
        "id": "-4Qf7-lDrMTd",
        "colab": {
          "base_uri": "https://localhost:8080/"
        },
        "outputId": "605efae9-08e9-4f76-f2f9-59b13ebe6594"
      },
      "outputs": [
        {
          "output_type": "stream",
          "name": "stdout",
          "text": [
            "[[0.00477275 0.98250944 0.6772399  1.         0.39907009]\n",
            " [0.64038117 0.82307605 0.12260559 0.26652054 0.22234396]\n",
            " [0.49698013 0.27114841 0.         0.88316033 0.19708031]\n",
            " [0.66230157 0.63340283 0.56799732 0.56028286 0.93556924]\n",
            " [0.84695678 0.01106645 0.34764721 0.0781792  0.32423947]]\n"
          ]
        }
      ],
      "source": [
        "x = np.random.random((5,5))\n",
        "xmin ,xmax = x.min(),x.max()\n",
        "x = (x-xmin) / (xmax - xmin)\n",
        "print(x)"
      ]
    },
    {
      "cell_type": "markdown",
      "metadata": {
        "id": "NDA63UPyrMTd"
      },
      "source": [
        "#### 23. Create a custom dtype that describes a color as four unsigned bytes (RGBA) (★☆☆) \n",
        "(**hint**: np.dtype)"
      ]
    },
    {
      "cell_type": "code",
      "execution_count": null,
      "metadata": {
        "collapsed": true,
        "id": "Bq6LBoOKrMTd",
        "colab": {
          "base_uri": "https://localhost:8080/"
        },
        "outputId": "87f14250-99a5-43de-9c5d-c6dc08578752"
      },
      "outputs": [
        {
          "output_type": "stream",
          "name": "stdout",
          "text": [
            "1\n"
          ]
        },
        {
          "output_type": "execute_result",
          "data": {
            "text/plain": [
              "numpy.ndarray"
            ]
          },
          "metadata": {},
          "execution_count": 5
        }
      ],
      "source": [
        "RGBA = np.dtype([(\"red\",np.uint8),\n",
        "                    (\"green\",np.uint8),\n",
        "                    (\"blue\",np.uint8),\n",
        "                    (\"alpha\",np.uint8)\n",
        "                    ])\n",
        "color = np.array((1,2,3,4),dtype = RGBA)\n",
        "print(color[\"red\"])\n",
        "type(color)"
      ]
    },
    {
      "cell_type": "markdown",
      "metadata": {
        "id": "S-m9RBHzrMTd"
      },
      "source": [
        "#### 24. Multiply a 5x3 matrix by a 3x2 matrix (real matrix product) (★☆☆) \n",
        "(**hint**: np.dot | @)"
      ]
    },
    {
      "cell_type": "code",
      "execution_count": null,
      "metadata": {
        "id": "MbXAPvZLrMTd",
        "colab": {
          "base_uri": "https://localhost:8080/"
        },
        "outputId": "e5c81246-66a4-4b28-fc96-f705a1ef8cbf"
      },
      "outputs": [
        {
          "output_type": "execute_result",
          "data": {
            "text/plain": [
              "array([[0.62248712, 0.62402687],\n",
              "       [0.92722716, 0.98143704],\n",
              "       [0.75276385, 0.82492919],\n",
              "       [0.71468593, 0.49759525],\n",
              "       [1.17864356, 0.73736577]])"
            ]
          },
          "metadata": {},
          "execution_count": 6
        }
      ],
      "source": [
        "arr1 = np.random.random((5,3))\n",
        "arr2 = np.random.random((3,2))\n",
        "#print(arr1 @ arr2)\n",
        "np.dot(arr1,arr2)"
      ]
    },
    {
      "cell_type": "markdown",
      "metadata": {
        "id": "yFRr6u4nrMTd"
      },
      "source": [
        "#### 25. Given a 1D array, negate all elements which are between 3 and 8, in place. (★☆☆) \n",
        "(**hint**: >, <=)"
      ]
    },
    {
      "cell_type": "code",
      "execution_count": null,
      "metadata": {
        "id": "SosZa8s5rMTd",
        "colab": {
          "base_uri": "https://localhost:8080/"
        },
        "outputId": "bd5fd867-85d5-48c3-e826-27908aacc569"
      },
      "outputs": [
        {
          "output_type": "stream",
          "name": "stdout",
          "text": [
            "[ 0  1  2  3 -4 -5 -6 -7  8  9 10 11 12 13 14 15]\n"
          ]
        }
      ],
      "source": [
        "x = np.arange(16)\n",
        "x[(3 < x) & (x < 8)] *= -1\n",
        "print(x)"
      ]
    },
    {
      "cell_type": "markdown",
      "metadata": {
        "id": "OwYA0TCHrMTd"
      },
      "source": [
        "#### 26. What is the output of the following script? (★☆☆) \n",
        "(**hint**: np.sum)"
      ]
    },
    {
      "cell_type": "markdown",
      "metadata": {
        "id": "pxZRQFcyrMTd"
      },
      "source": [
        "```python\n",
        "# Author: Jake VanderPlas\n",
        "\n",
        "print(sum(range(5),-1))\n",
        "from numpy import *\n",
        "print(sum(range(5),-1))\n",
        "```"
      ]
    },
    {
      "cell_type": "code",
      "execution_count": null,
      "metadata": {
        "id": "kxYxQdBJrMTe",
        "colab": {
          "base_uri": "https://localhost:8080/"
        },
        "outputId": "e3d35acc-25ca-40af-89d2-97119f0c680c"
      },
      "outputs": [
        {
          "output_type": "stream",
          "name": "stdout",
          "text": [
            "9\n",
            "10\n"
          ]
        }
      ],
      "source": [
        "print(sum(range(5),-1))\n",
        "from numpy import *\n",
        "print(sum(range(5),-1))"
      ]
    },
    {
      "cell_type": "markdown",
      "metadata": {
        "id": "J9jh3UF5rMTf"
      },
      "source": [
        "#### 27. Consider an integer vector Z, which of these expressions are legal? (★☆☆)"
      ]
    },
    {
      "cell_type": "markdown",
      "metadata": {
        "id": "uYicWgy7rMTf"
      },
      "source": [
        "```python\n",
        "Z**Z\n",
        "2 << Z >> 2\n",
        "Z <- Z\n",
        "1j*Z\n",
        "Z/1/1\n",
        "Z<Z>Z\n",
        "```"
      ]
    },
    {
      "cell_type": "code",
      "execution_count": null,
      "metadata": {
        "id": "FXBSYxvmrMTf",
        "colab": {
          "base_uri": "https://localhost:8080/",
          "height": 165
        },
        "outputId": "8fd8248d-43c7-4d38-d00a-36fc6cd62017"
      },
      "outputs": [
        {
          "output_type": "error",
          "ename": "ValueError",
          "evalue": "ignored",
          "traceback": [
            "\u001b[0;31m---------------------------------------------------------------------------\u001b[0m",
            "\u001b[0;31mValueError\u001b[0m                                Traceback (most recent call last)",
            "\u001b[0;32m<ipython-input-49-b63998583853>\u001b[0m in \u001b[0;36m<module>\u001b[0;34m\u001b[0m\n\u001b[0;32m----> 1\u001b[0;31m \u001b[0mprint\u001b[0m\u001b[0;34m(\u001b[0m\u001b[0mx\u001b[0m\u001b[0;34m**\u001b[0m\u001b[0mx\u001b[0m\u001b[0;34m)\u001b[0m\u001b[0;34m\u001b[0m\u001b[0;34m\u001b[0m\u001b[0m\n\u001b[0m",
            "\u001b[0;31mValueError\u001b[0m: Integers to negative integer powers are not allowed."
          ]
        }
      ],
      "source": []
    },
    {
      "cell_type": "markdown",
      "metadata": {
        "id": "JgNlD37prMTf"
      },
      "source": [
        "#### 28. What are the result of the following expressions?"
      ]
    },
    {
      "cell_type": "markdown",
      "metadata": {
        "id": "ym4CWFnlrMTf"
      },
      "source": [
        "```python\n",
        "np.array(0) / np.array(0)\n",
        "np.array(0) // np.array(0)\n",
        "np.array([np.nan]).astype(int).astype(float)\n",
        "```"
      ]
    },
    {
      "cell_type": "code",
      "execution_count": null,
      "metadata": {
        "id": "l3vXvpGgrMTf",
        "colab": {
          "base_uri": "https://localhost:8080/"
        },
        "outputId": "da498ccb-a790-445f-9ef4-efdf11f288ae"
      },
      "outputs": [
        {
          "output_type": "stream",
          "name": "stdout",
          "text": [
            "nan\n",
            "0\n"
          ]
        },
        {
          "output_type": "stream",
          "name": "stderr",
          "text": [
            "<ipython-input-51-52e5be358f56>:1: RuntimeWarning: invalid value encountered in true_divide\n",
            "  print(np.array(0)/np.array(0))\n",
            "<ipython-input-51-52e5be358f56>:2: RuntimeWarning: divide by zero encountered in floor_divide\n",
            "  print(np.array(0)//np.array(0))\n"
          ]
        },
        {
          "output_type": "execute_result",
          "data": {
            "text/plain": [
              "array([-9.22337204e+18])"
            ]
          },
          "metadata": {},
          "execution_count": 51
        }
      ],
      "source": [
        "print(np.array(0)/np.array(0))\n",
        "print(np.array(0)//np.array(0))\n",
        "np.array([np.nan]).astype(int).astype(float)"
      ]
    },
    {
      "cell_type": "markdown",
      "metadata": {
        "id": "fW6mQ7d5rMTf"
      },
      "source": [
        "#### 29. How to round away from zero a float array ? (★☆☆) \n",
        "(**hint**: np.uniform, np.copysign, np.ceil, np.abs)"
      ]
    },
    {
      "cell_type": "code",
      "execution_count": null,
      "metadata": {
        "id": "0SEuYqvMrMTf",
        "colab": {
          "base_uri": "https://localhost:8080/"
        },
        "outputId": "c91ef40d-c8cf-42f2-8bd9-35d3b18716de"
      },
      "outputs": [
        {
          "output_type": "stream",
          "name": "stdout",
          "text": [
            "[-3. 10.  8.  6. -6. 10.  9. -3.  8.  6.]\n"
          ]
        }
      ],
      "source": [
        "x = np.random.uniform(-10,+10,10)\n",
        "print(np.copysign(np.ceil(np.abs(x)),x))"
      ]
    },
    {
      "cell_type": "markdown",
      "metadata": {
        "id": "XQGZLLCprMTf"
      },
      "source": [
        "#### 30. How to find common values between two arrays? (★☆☆) \n",
        "(**hint**: np.intersect1d)"
      ]
    },
    {
      "cell_type": "code",
      "execution_count": null,
      "metadata": {
        "id": "lQc55JORrMTf",
        "colab": {
          "base_uri": "https://localhost:8080/"
        },
        "outputId": "253e6973-86de-4800-fa83-2f9df3365715"
      },
      "outputs": [
        {
          "output_type": "execute_result",
          "data": {
            "text/plain": [
              "array([0, 5, 6, 7, 8, 9])"
            ]
          },
          "metadata": {},
          "execution_count": 53
        }
      ],
      "source": [
        "x = np.random.randint(0,10,10)\n",
        "y = np.random.randint(0,10,10)\n",
        "np.intersect1d(x,y)"
      ]
    },
    {
      "cell_type": "markdown",
      "metadata": {
        "id": "lzAwVKvFrMTf"
      },
      "source": [
        "#### 31. How to ignore all numpy warnings (not recommended)? (★☆☆) \n",
        "(**hint**: np.seterr, np.errstate)"
      ]
    },
    {
      "cell_type": "code",
      "execution_count": null,
      "metadata": {
        "id": "OsEryPIYrMTf"
      },
      "outputs": [],
      "source": [
        "defaults = np.seterr(all ='ignore')\n",
        "x = np.ones(1)/0\n",
        "_ = np.seterr(**defaults)\n",
        "with np.errstate(all = 'ignore'):\n",
        "  np.arange(3) /0"
      ]
    },
    {
      "cell_type": "markdown",
      "metadata": {
        "id": "nmJNHmIdrMTg"
      },
      "source": [
        "#### 32. Is the following expressions true? (★☆☆) \n",
        "(**hint**: imaginary number)"
      ]
    },
    {
      "cell_type": "markdown",
      "metadata": {
        "id": "6K-dDckxrMTg"
      },
      "source": [
        "```python\n",
        "np.sqrt(-1) == np.emath.sqrt(-1)\n",
        "```"
      ]
    },
    {
      "cell_type": "code",
      "execution_count": null,
      "metadata": {
        "id": "Rj2f2b-IrMTg",
        "colab": {
          "base_uri": "https://localhost:8080/"
        },
        "outputId": "4b679565-20c6-471d-d164-33986f263d69"
      },
      "outputs": [
        {
          "output_type": "stream",
          "name": "stderr",
          "text": [
            "<ipython-input-56-16339fbc685e>:1: RuntimeWarning: invalid value encountered in sqrt\n",
            "  np.sqrt(-1) == np.emath.sqrt(-1)\n"
          ]
        },
        {
          "output_type": "execute_result",
          "data": {
            "text/plain": [
              "False"
            ]
          },
          "metadata": {},
          "execution_count": 56
        }
      ],
      "source": [
        "np.sqrt(-1) == np.emath.sqrt(-1)"
      ]
    },
    {
      "cell_type": "markdown",
      "metadata": {
        "id": "PCQ4drd9rMTg"
      },
      "source": [
        "#### 33. How to get the dates of yesterday, today and tomorrow? (★☆☆) \n",
        "(**hint**: np.datetime64, np.timedelta64)"
      ]
    },
    {
      "cell_type": "code",
      "execution_count": null,
      "metadata": {
        "collapsed": true,
        "id": "xG2VOaYCrMTg"
      },
      "outputs": [],
      "source": [
        "#yesterday = np.datetime64('today') - np.deltatime64(1)\n",
        "today = np.datetime64('today')\n",
        "#tomorrow = np.datetime64('today') + np.deltatime64(1)"
      ]
    },
    {
      "cell_type": "markdown",
      "metadata": {
        "id": "kmquwGjFrMTg"
      },
      "source": [
        "#### 34. How to get all the dates corresponding to the month of July 2016? (★★☆) \n",
        "(**hint**: np.arange(dtype=datetime64\\['D'\\]))"
      ]
    },
    {
      "cell_type": "code",
      "execution_count": null,
      "metadata": {
        "id": "iQ19PYWOrMTg",
        "colab": {
          "base_uri": "https://localhost:8080/"
        },
        "outputId": "924771e8-095f-4659-c5d2-1d5529bc4113"
      },
      "outputs": [
        {
          "output_type": "stream",
          "name": "stdout",
          "text": [
            "['2016-07-01' '2016-07-02' '2016-07-03' '2016-07-04' '2016-07-05'\n",
            " '2016-07-06' '2016-07-07' '2016-07-08' '2016-07-09' '2016-07-10'\n",
            " '2016-07-11' '2016-07-12' '2016-07-13' '2016-07-14' '2016-07-15'\n",
            " '2016-07-16' '2016-07-17' '2016-07-18' '2016-07-19' '2016-07-20'\n",
            " '2016-07-21' '2016-07-22' '2016-07-23' '2016-07-24' '2016-07-25'\n",
            " '2016-07-26' '2016-07-27' '2016-07-28' '2016-07-29' '2016-07-30'\n",
            " '2016-07-31']\n"
          ]
        }
      ],
      "source": [
        "x = np.arange('2016-07','2016-08',dtype = 'datetime64[D]')\n",
        "print(x)"
      ]
    },
    {
      "cell_type": "markdown",
      "metadata": {
        "id": "7LdTlZF8rMTg"
      },
      "source": [
        "#### 35. How to compute ((A+B)\\*(-A/2)) in place (without copy)? (★★☆) \n",
        "(**hint**: np.add(out=), np.negative(out=), np.multiply(out=), np.divide(out=))"
      ]
    },
    {
      "cell_type": "code",
      "execution_count": null,
      "metadata": {
        "id": "hpGjE_4crMTg",
        "colab": {
          "base_uri": "https://localhost:8080/"
        },
        "outputId": "c4304d11-2eab-43e8-d71f-8604613c0c08"
      },
      "outputs": [
        {
          "output_type": "execute_result",
          "data": {
            "text/plain": [
              "array([-1.5, -1.5, -1.5])"
            ]
          },
          "metadata": {},
          "execution_count": 60
        }
      ],
      "source": [
        "A = np.ones(3) * 1\n",
        "B = np.ones(3) * 2\n",
        "np.add(A,B,out = B)\n",
        "np.divide(A,2,out = A)\n",
        "np.negative(A,out = A)\n",
        "np.multiply(A,B,out = A)"
      ]
    },
    {
      "cell_type": "markdown",
      "metadata": {
        "id": "BMJHuC5vrMTg"
      },
      "source": [
        "#### 36. Extract the integer part of a random array using 5 different methods (★★☆) \n",
        "(**hint**: %, np.floor, np.ceil, astype, np.trunc)"
      ]
    },
    {
      "cell_type": "code",
      "execution_count": null,
      "metadata": {
        "id": "9PzyfKtvrMTg",
        "colab": {
          "base_uri": "https://localhost:8080/"
        },
        "outputId": "ee3d9d94-08b0-4770-c944-3e71fa900a77"
      },
      "outputs": [
        {
          "output_type": "stream",
          "name": "stdout",
          "text": [
            "[7. 1. 2. 8. 1. 0. 9. 5. 7. 1.]\n",
            "[7. 1. 2. 8. 1. 0. 9. 5. 7. 1.]\n",
            "[7. 1. 2. 8. 1. 0. 9. 5. 7. 1.]\n",
            "[7 1 2 8 1 0 9 5 7 1]\n",
            "[7. 1. 2. 8. 1. 0. 9. 5. 7. 1.]\n"
          ]
        }
      ],
      "source": [
        "x = np.random.uniform(0,10,10)\n",
        "print(x - x%1)\n",
        "print(x//1)\n",
        "print(np.floor(x))\n",
        "print(x.astype(int))\n",
        "print(np.trunc(x))\n"
      ]
    },
    {
      "cell_type": "markdown",
      "metadata": {
        "id": "11fD44AtrMTg"
      },
      "source": [
        "#### 37. Create a 5x5 matrix with row values ranging from 0 to 4 (★★☆) \n",
        "(**hint**: np.arange)"
      ]
    },
    {
      "cell_type": "code",
      "execution_count": null,
      "metadata": {
        "id": "SlA-UAlGrMTg",
        "colab": {
          "base_uri": "https://localhost:8080/"
        },
        "outputId": "b8a68e3e-1c5a-48a5-fb11-088095d565bf"
      },
      "outputs": [
        {
          "output_type": "stream",
          "name": "stdout",
          "text": [
            "[[0. 1. 2. 3. 4.]\n",
            " [0. 1. 2. 3. 4.]\n",
            " [0. 1. 2. 3. 4.]\n",
            " [0. 1. 2. 3. 4.]\n",
            " [0. 1. 2. 3. 4.]]\n",
            "[[0 1 2 3 4]\n",
            " [0 1 2 3 4]\n",
            " [0 1 2 3 4]\n",
            " [0 1 2 3 4]\n",
            " [0 1 2 3 4]]\n"
          ]
        }
      ],
      "source": [
        "x = np.zeros((5,5))\n",
        "x = x + np.arange(5)\n",
        "print(x)\n",
        "x = np.tile(np.arange(0,5),(5,1))\n",
        "print(x)"
      ]
    },
    {
      "cell_type": "markdown",
      "metadata": {
        "id": "EK2RyOQGrMTg"
      },
      "source": [
        "#### 38. Consider a generator function that generates 10 integers and use it to build an array (★☆☆) \n",
        "(**hint**: np.fromiter)"
      ]
    },
    {
      "cell_type": "code",
      "execution_count": null,
      "metadata": {
        "id": "19A-aSRRrMTg",
        "colab": {
          "base_uri": "https://localhost:8080/"
        },
        "outputId": "8e64902a-117f-4c52-b0ad-e137058a357c"
      },
      "outputs": [
        {
          "output_type": "stream",
          "name": "stdout",
          "text": [
            "[0. 1. 2. 3. 4. 5. 6. 7. 8. 9.]\n"
          ]
        }
      ],
      "source": [
        "def generate():\n",
        "  for x in range(10):\n",
        "    yield x\n",
        "x = np.fromiter(generate(),dtype = float, count = -1)\n",
        "print(x)"
      ]
    },
    {
      "cell_type": "markdown",
      "metadata": {
        "id": "PvacHSu4rMTg"
      },
      "source": [
        "#### 39. Create a vector of size 10 with values ranging from 0 to 1, both excluded (★★☆) \n",
        "(**hint**: np.linspace)"
      ]
    },
    {
      "cell_type": "code",
      "execution_count": null,
      "metadata": {
        "id": "TVcFgZAFrMTg",
        "colab": {
          "base_uri": "https://localhost:8080/"
        },
        "outputId": "c08421f8-a157-4e6d-db25-6f98a473edfd"
      },
      "outputs": [
        {
          "output_type": "stream",
          "name": "stdout",
          "text": [
            "[0.09090909 0.18181818 0.27272727 0.36363636 0.45454545 0.54545455\n",
            " 0.63636364 0.72727273 0.81818182 0.90909091]\n"
          ]
        }
      ],
      "source": [
        "x = np.linspace(0,1,11,endpoint = False)[1:]\n",
        "print(x)"
      ]
    },
    {
      "cell_type": "markdown",
      "metadata": {
        "id": "1Gv2XwgYrMTh"
      },
      "source": [
        "#### 40. Create a random vector of size 10 and sort it (★★☆) \n",
        "(**hint**: sort)"
      ]
    },
    {
      "cell_type": "code",
      "execution_count": null,
      "metadata": {
        "id": "To0mSlGzrMTh",
        "colab": {
          "base_uri": "https://localhost:8080/"
        },
        "outputId": "68e882d5-4e9c-4e32-d964-c35e0db17c86"
      },
      "outputs": [
        {
          "output_type": "stream",
          "name": "stdout",
          "text": [
            "[0.07068856 0.07278936 0.09479624 0.26200062 0.26632702 0.38865561\n",
            " 0.61757275 0.7166891  0.71855815 0.87291918]\n"
          ]
        }
      ],
      "source": [
        "x = np.random.random(10)\n",
        "x.sort()\n",
        "print(x)"
      ]
    },
    {
      "cell_type": "markdown",
      "metadata": {
        "id": "N4TdrBzzrMTh"
      },
      "source": [
        "#### 41. How to sum a small array faster than np.sum? (★★☆) \n",
        "(**hint**: np.add.reduce)"
      ]
    },
    {
      "cell_type": "code",
      "execution_count": null,
      "metadata": {
        "id": "NqVSIqN0rMTh",
        "colab": {
          "base_uri": "https://localhost:8080/"
        },
        "outputId": "d736d538-4236-4077-cd98-6b8b20b2f6f5"
      },
      "outputs": [
        {
          "output_type": "execute_result",
          "data": {
            "text/plain": [
              "105"
            ]
          },
          "metadata": {},
          "execution_count": 10
        }
      ],
      "source": [
        "x = np.arange(15)\n",
        "np.add.reduce(x)"
      ]
    },
    {
      "cell_type": "markdown",
      "metadata": {
        "id": "shKz4KDGrMTh"
      },
      "source": [
        "#### 42. Consider two random array A and B, check if they are equal (★★☆) \n",
        "(**hint**: np.allclose, np.array\\_equal)"
      ]
    },
    {
      "cell_type": "code",
      "execution_count": null,
      "metadata": {
        "id": "bAke_DW4rMTh",
        "colab": {
          "base_uri": "https://localhost:8080/"
        },
        "outputId": "8e0ece95-0222-4f31-cb3e-17e6ef608783"
      },
      "outputs": [
        {
          "output_type": "stream",
          "name": "stdout",
          "text": [
            "False\n",
            "False\n"
          ]
        }
      ],
      "source": [
        "A = np.random.randint(0,2,5)\n",
        "B = np.random.randint(0,2,5)\n",
        "equal = np.allclose(A,B)\n",
        "print(equal)\n",
        "equal = np.array_equal(A,B)\n",
        "print(equal)\n",
        "\n"
      ]
    },
    {
      "cell_type": "markdown",
      "metadata": {
        "id": "kMJXpRhHrMTh"
      },
      "source": [
        "#### 43. Make an array immutable (read-only) (★★☆) \n",
        "(**hint**: flags.writeable)"
      ]
    },
    {
      "cell_type": "code",
      "execution_count": null,
      "metadata": {
        "id": "nZ-HmzuVrMTh",
        "colab": {
          "base_uri": "https://localhost:8080/",
          "height": 200
        },
        "outputId": "5822b052-fff7-4597-d9e5-88e797209971"
      },
      "outputs": [
        {
          "output_type": "error",
          "ename": "ValueError",
          "evalue": "ignored",
          "traceback": [
            "\u001b[0;31m---------------------------------------------------------------------------\u001b[0m",
            "\u001b[0;31mValueError\u001b[0m                                Traceback (most recent call last)",
            "\u001b[0;32m<ipython-input-77-bd1e19aa3d39>\u001b[0m in \u001b[0;36m<module>\u001b[0;34m\u001b[0m\n\u001b[1;32m      1\u001b[0m \u001b[0mx\u001b[0m \u001b[0;34m=\u001b[0m \u001b[0mnp\u001b[0m\u001b[0;34m.\u001b[0m\u001b[0mzeros\u001b[0m\u001b[0;34m(\u001b[0m\u001b[0;36m10\u001b[0m\u001b[0;34m)\u001b[0m\u001b[0;34m\u001b[0m\u001b[0;34m\u001b[0m\u001b[0m\n\u001b[1;32m      2\u001b[0m \u001b[0mx\u001b[0m\u001b[0;34m.\u001b[0m\u001b[0mflags\u001b[0m\u001b[0;34m.\u001b[0m\u001b[0mwriteable\u001b[0m \u001b[0;34m=\u001b[0m \u001b[0;32mFalse\u001b[0m\u001b[0;34m\u001b[0m\u001b[0;34m\u001b[0m\u001b[0m\n\u001b[0;32m----> 3\u001b[0;31m \u001b[0mx\u001b[0m\u001b[0;34m[\u001b[0m\u001b[0;36m0\u001b[0m\u001b[0;34m]\u001b[0m  \u001b[0;34m=\u001b[0m \u001b[0;36m1\u001b[0m\u001b[0;34m\u001b[0m\u001b[0;34m\u001b[0m\u001b[0m\n\u001b[0m",
            "\u001b[0;31mValueError\u001b[0m: assignment destination is read-only"
          ]
        }
      ],
      "source": [
        "x = np.zeros(10)\n",
        "x.flags.writeable = False\n",
        "x[0]  = 1"
      ]
    },
    {
      "cell_type": "markdown",
      "metadata": {
        "id": "J3OGcI0lrMTh"
      },
      "source": [
        "#### 44. Consider a random 10x2 matrix representing cartesian coordinates, convert them to polar coordinates (★★☆) \n",
        "(**hint**: np.sqrt, np.arctan2)"
      ]
    },
    {
      "cell_type": "code",
      "execution_count": null,
      "metadata": {
        "id": "fwiXugD5rMTh",
        "colab": {
          "base_uri": "https://localhost:8080/"
        },
        "outputId": "586dd7df-d1f4-4705-89db-fe132356f7ea"
      },
      "outputs": [
        {
          "output_type": "stream",
          "name": "stdout",
          "text": [
            "[0.11895209 0.5078731  0.13929304 0.7288734  0.78747276 0.41857907\n",
            " 0.74548184 0.95794724 1.16163266 0.99555027]\n",
            "[1.40504306 0.68145138 0.58462046 0.69374798 0.05726021 0.96660132\n",
            " 0.72603328 1.1219872  0.79557701 0.19269822]\n"
          ]
        }
      ],
      "source": [
        "x = np.random.random((10,2))\n",
        "x , y = x[:,0] , x[:,1]\n",
        "r = np.sqrt(x**2 + y ** 2)\n",
        "t = np.arctan2(y,x)\n",
        "print(r)\n",
        "print(t)"
      ]
    },
    {
      "cell_type": "markdown",
      "metadata": {
        "id": "b6vqR5olrMTh"
      },
      "source": [
        "#### 45. Create random vector of size 10 and replace the maximum value by 0 (★★☆) \n",
        "(**hint**: argmax)"
      ]
    },
    {
      "cell_type": "code",
      "execution_count": null,
      "metadata": {
        "id": "cKbYxdeCrMTh",
        "colab": {
          "base_uri": "https://localhost:8080/"
        },
        "outputId": "4108fa0b-bf77-4a04-9089-b66e3fa7cf2a"
      },
      "outputs": [
        {
          "output_type": "stream",
          "name": "stdout",
          "text": [
            "[0.72402588 0.41918948 0.27189482 0.66809931 0.80489521 0.24303791\n",
            " 0.53644317 0.04969682 0.75338332 0.        ]\n"
          ]
        }
      ],
      "source": [
        "x = np.random.random(10)\n",
        "x[x.argmax()] = 0\n",
        "print(x)"
      ]
    },
    {
      "cell_type": "markdown",
      "metadata": {
        "id": "44Xi_jkerMTh"
      },
      "source": [
        "#### 46. Create a structured array with `x` and `y` coordinates covering the \\[0,1\\]x\\[0,1\\] area (★★☆) \n",
        "(**hint**: np.meshgrid)"
      ]
    },
    {
      "cell_type": "code",
      "execution_count": null,
      "metadata": {
        "id": "hyyqTt_erMTh",
        "colab": {
          "base_uri": "https://localhost:8080/"
        },
        "outputId": "7857ad13-2bff-4003-b289-697913372f12"
      },
      "outputs": [
        {
          "output_type": "stream",
          "name": "stdout",
          "text": [
            "[[(0.  , 0.  ) (0.25, 0.  ) (0.5 , 0.  ) (0.75, 0.  ) (1.  , 0.  )]\n",
            " [(0.  , 0.25) (0.25, 0.25) (0.5 , 0.25) (0.75, 0.25) (1.  , 0.25)]\n",
            " [(0.  , 0.5 ) (0.25, 0.5 ) (0.5 , 0.5 ) (0.75, 0.5 ) (1.  , 0.5 )]\n",
            " [(0.  , 0.75) (0.25, 0.75) (0.5 , 0.75) (0.75, 0.75) (1.  , 0.75)]\n",
            " [(0.  , 1.  ) (0.25, 1.  ) (0.5 , 1.  ) (0.75, 1.  ) (1.  , 1.  )]]\n"
          ]
        }
      ],
      "source": [
        "x = np.zeros((5,5),[('x',float),('y',float)])\n",
        "x['x'],x['y'] = np.meshgrid(np.linspace(0,1,5),\n",
        "                            np.linspace(0,1,5))\n",
        "print(x)\n"
      ]
    },
    {
      "cell_type": "markdown",
      "metadata": {
        "id": "JxImiMqhrMTh"
      },
      "source": [
        "####  47. Given two arrays, X and Y, construct the Cauchy matrix C (Cij =1/(xi - yj)) \n",
        "(**hint**: np.subtract.outer)"
      ]
    },
    {
      "cell_type": "code",
      "execution_count": null,
      "metadata": {
        "id": "rxJ0ymRjrMTh"
      },
      "outputs": [],
      "source": [
        "x = np.arange(8)\n",
        "y = x + 0.5\n",
        "c = 1.0 / np.subtract.outer(x,y)\n",
        "print(np.linalg.det(c))"
      ]
    },
    {
      "cell_type": "markdown",
      "metadata": {
        "id": "cdZwUF7zrMTh"
      },
      "source": [
        "#### 48. Print the minimum and maximum representable value for each numpy scalar type (★★☆) \n",
        "(**hint**: np.iinfo, np.finfo, eps)"
      ]
    },
    {
      "cell_type": "code",
      "execution_count": null,
      "metadata": {
        "id": "olaUfeq5rMTi",
        "colab": {
          "base_uri": "https://localhost:8080/"
        },
        "outputId": "47a9b8ea-7b96-444e-df55-381660b30d90"
      },
      "outputs": [
        {
          "output_type": "stream",
          "name": "stdout",
          "text": [
            "-128\n",
            "127\n",
            "-2147483648\n",
            "2147483647\n",
            "-9223372036854775808\n",
            "9223372036854775807\n",
            "-3.4028235e+38\n",
            "3.4028235e+38\n",
            "1.1920929e-07\n",
            "-1.7976931348623157e+308\n",
            "1.7976931348623157e+308\n",
            "2.220446049250313e-16\n"
          ]
        }
      ],
      "source": [
        "for dtype in[np.int8,np.int32,np.int64]:\n",
        "  print(np.iinfo(dtype).min)\n",
        "  print(np.iinfo(dtype).max)\n",
        "for dtype in [np.float32,np.float64]:\n",
        "  print(np.finfo(dtype).min)\n",
        "  print(np.finfo(dtype).max)\n",
        "  print(np.finfo(dtype).eps)\n"
      ]
    },
    {
      "cell_type": "markdown",
      "metadata": {
        "id": "W64dxQArrMTi"
      },
      "source": [
        "#### 49. How to print all the values of an array? (★★☆) \n",
        "(**hint**: np.set\\_printoptions)"
      ]
    },
    {
      "cell_type": "code",
      "execution_count": null,
      "metadata": {
        "id": "EInK2j6DrMTi",
        "colab": {
          "base_uri": "https://localhost:8080/"
        },
        "outputId": "0a68b82f-ba1e-441e-8a64-da8e5c84198e"
      },
      "outputs": [
        {
          "output_type": "stream",
          "name": "stdout",
          "text": [
            "[[0. 0. 0. 0. 0. 0. 0. 0. 0. 0. 0. 0. 0. 0. 0. 0. 0. 0. 0. 0. 0. 0. 0. 0.\n",
            "  0. 0. 0. 0. 0. 0. 0. 0. 0. 0. 0. 0. 0. 0. 0. 0.]\n",
            " [0. 0. 0. 0. 0. 0. 0. 0. 0. 0. 0. 0. 0. 0. 0. 0. 0. 0. 0. 0. 0. 0. 0. 0.\n",
            "  0. 0. 0. 0. 0. 0. 0. 0. 0. 0. 0. 0. 0. 0. 0. 0.]\n",
            " [0. 0. 0. 0. 0. 0. 0. 0. 0. 0. 0. 0. 0. 0. 0. 0. 0. 0. 0. 0. 0. 0. 0. 0.\n",
            "  0. 0. 0. 0. 0. 0. 0. 0. 0. 0. 0. 0. 0. 0. 0. 0.]\n",
            " [0. 0. 0. 0. 0. 0. 0. 0. 0. 0. 0. 0. 0. 0. 0. 0. 0. 0. 0. 0. 0. 0. 0. 0.\n",
            "  0. 0. 0. 0. 0. 0. 0. 0. 0. 0. 0. 0. 0. 0. 0. 0.]\n",
            " [0. 0. 0. 0. 0. 0. 0. 0. 0. 0. 0. 0. 0. 0. 0. 0. 0. 0. 0. 0. 0. 0. 0. 0.\n",
            "  0. 0. 0. 0. 0. 0. 0. 0. 0. 0. 0. 0. 0. 0. 0. 0.]\n",
            " [0. 0. 0. 0. 0. 0. 0. 0. 0. 0. 0. 0. 0. 0. 0. 0. 0. 0. 0. 0. 0. 0. 0. 0.\n",
            "  0. 0. 0. 0. 0. 0. 0. 0. 0. 0. 0. 0. 0. 0. 0. 0.]\n",
            " [0. 0. 0. 0. 0. 0. 0. 0. 0. 0. 0. 0. 0. 0. 0. 0. 0. 0. 0. 0. 0. 0. 0. 0.\n",
            "  0. 0. 0. 0. 0. 0. 0. 0. 0. 0. 0. 0. 0. 0. 0. 0.]\n",
            " [0. 0. 0. 0. 0. 0. 0. 0. 0. 0. 0. 0. 0. 0. 0. 0. 0. 0. 0. 0. 0. 0. 0. 0.\n",
            "  0. 0. 0. 0. 0. 0. 0. 0. 0. 0. 0. 0. 0. 0. 0. 0.]\n",
            " [0. 0. 0. 0. 0. 0. 0. 0. 0. 0. 0. 0. 0. 0. 0. 0. 0. 0. 0. 0. 0. 0. 0. 0.\n",
            "  0. 0. 0. 0. 0. 0. 0. 0. 0. 0. 0. 0. 0. 0. 0. 0.]\n",
            " [0. 0. 0. 0. 0. 0. 0. 0. 0. 0. 0. 0. 0. 0. 0. 0. 0. 0. 0. 0. 0. 0. 0. 0.\n",
            "  0. 0. 0. 0. 0. 0. 0. 0. 0. 0. 0. 0. 0. 0. 0. 0.]\n",
            " [0. 0. 0. 0. 0. 0. 0. 0. 0. 0. 0. 0. 0. 0. 0. 0. 0. 0. 0. 0. 0. 0. 0. 0.\n",
            "  0. 0. 0. 0. 0. 0. 0. 0. 0. 0. 0. 0. 0. 0. 0. 0.]\n",
            " [0. 0. 0. 0. 0. 0. 0. 0. 0. 0. 0. 0. 0. 0. 0. 0. 0. 0. 0. 0. 0. 0. 0. 0.\n",
            "  0. 0. 0. 0. 0. 0. 0. 0. 0. 0. 0. 0. 0. 0. 0. 0.]\n",
            " [0. 0. 0. 0. 0. 0. 0. 0. 0. 0. 0. 0. 0. 0. 0. 0. 0. 0. 0. 0. 0. 0. 0. 0.\n",
            "  0. 0. 0. 0. 0. 0. 0. 0. 0. 0. 0. 0. 0. 0. 0. 0.]\n",
            " [0. 0. 0. 0. 0. 0. 0. 0. 0. 0. 0. 0. 0. 0. 0. 0. 0. 0. 0. 0. 0. 0. 0. 0.\n",
            "  0. 0. 0. 0. 0. 0. 0. 0. 0. 0. 0. 0. 0. 0. 0. 0.]\n",
            " [0. 0. 0. 0. 0. 0. 0. 0. 0. 0. 0. 0. 0. 0. 0. 0. 0. 0. 0. 0. 0. 0. 0. 0.\n",
            "  0. 0. 0. 0. 0. 0. 0. 0. 0. 0. 0. 0. 0. 0. 0. 0.]\n",
            " [0. 0. 0. 0. 0. 0. 0. 0. 0. 0. 0. 0. 0. 0. 0. 0. 0. 0. 0. 0. 0. 0. 0. 0.\n",
            "  0. 0. 0. 0. 0. 0. 0. 0. 0. 0. 0. 0. 0. 0. 0. 0.]\n",
            " [0. 0. 0. 0. 0. 0. 0. 0. 0. 0. 0. 0. 0. 0. 0. 0. 0. 0. 0. 0. 0. 0. 0. 0.\n",
            "  0. 0. 0. 0. 0. 0. 0. 0. 0. 0. 0. 0. 0. 0. 0. 0.]\n",
            " [0. 0. 0. 0. 0. 0. 0. 0. 0. 0. 0. 0. 0. 0. 0. 0. 0. 0. 0. 0. 0. 0. 0. 0.\n",
            "  0. 0. 0. 0. 0. 0. 0. 0. 0. 0. 0. 0. 0. 0. 0. 0.]\n",
            " [0. 0. 0. 0. 0. 0. 0. 0. 0. 0. 0. 0. 0. 0. 0. 0. 0. 0. 0. 0. 0. 0. 0. 0.\n",
            "  0. 0. 0. 0. 0. 0. 0. 0. 0. 0. 0. 0. 0. 0. 0. 0.]\n",
            " [0. 0. 0. 0. 0. 0. 0. 0. 0. 0. 0. 0. 0. 0. 0. 0. 0. 0. 0. 0. 0. 0. 0. 0.\n",
            "  0. 0. 0. 0. 0. 0. 0. 0. 0. 0. 0. 0. 0. 0. 0. 0.]\n",
            " [0. 0. 0. 0. 0. 0. 0. 0. 0. 0. 0. 0. 0. 0. 0. 0. 0. 0. 0. 0. 0. 0. 0. 0.\n",
            "  0. 0. 0. 0. 0. 0. 0. 0. 0. 0. 0. 0. 0. 0. 0. 0.]\n",
            " [0. 0. 0. 0. 0. 0. 0. 0. 0. 0. 0. 0. 0. 0. 0. 0. 0. 0. 0. 0. 0. 0. 0. 0.\n",
            "  0. 0. 0. 0. 0. 0. 0. 0. 0. 0. 0. 0. 0. 0. 0. 0.]\n",
            " [0. 0. 0. 0. 0. 0. 0. 0. 0. 0. 0. 0. 0. 0. 0. 0. 0. 0. 0. 0. 0. 0. 0. 0.\n",
            "  0. 0. 0. 0. 0. 0. 0. 0. 0. 0. 0. 0. 0. 0. 0. 0.]\n",
            " [0. 0. 0. 0. 0. 0. 0. 0. 0. 0. 0. 0. 0. 0. 0. 0. 0. 0. 0. 0. 0. 0. 0. 0.\n",
            "  0. 0. 0. 0. 0. 0. 0. 0. 0. 0. 0. 0. 0. 0. 0. 0.]\n",
            " [0. 0. 0. 0. 0. 0. 0. 0. 0. 0. 0. 0. 0. 0. 0. 0. 0. 0. 0. 0. 0. 0. 0. 0.\n",
            "  0. 0. 0. 0. 0. 0. 0. 0. 0. 0. 0. 0. 0. 0. 0. 0.]\n",
            " [0. 0. 0. 0. 0. 0. 0. 0. 0. 0. 0. 0. 0. 0. 0. 0. 0. 0. 0. 0. 0. 0. 0. 0.\n",
            "  0. 0. 0. 0. 0. 0. 0. 0. 0. 0. 0. 0. 0. 0. 0. 0.]\n",
            " [0. 0. 0. 0. 0. 0. 0. 0. 0. 0. 0. 0. 0. 0. 0. 0. 0. 0. 0. 0. 0. 0. 0. 0.\n",
            "  0. 0. 0. 0. 0. 0. 0. 0. 0. 0. 0. 0. 0. 0. 0. 0.]\n",
            " [0. 0. 0. 0. 0. 0. 0. 0. 0. 0. 0. 0. 0. 0. 0. 0. 0. 0. 0. 0. 0. 0. 0. 0.\n",
            "  0. 0. 0. 0. 0. 0. 0. 0. 0. 0. 0. 0. 0. 0. 0. 0.]\n",
            " [0. 0. 0. 0. 0. 0. 0. 0. 0. 0. 0. 0. 0. 0. 0. 0. 0. 0. 0. 0. 0. 0. 0. 0.\n",
            "  0. 0. 0. 0. 0. 0. 0. 0. 0. 0. 0. 0. 0. 0. 0. 0.]\n",
            " [0. 0. 0. 0. 0. 0. 0. 0. 0. 0. 0. 0. 0. 0. 0. 0. 0. 0. 0. 0. 0. 0. 0. 0.\n",
            "  0. 0. 0. 0. 0. 0. 0. 0. 0. 0. 0. 0. 0. 0. 0. 0.]\n",
            " [0. 0. 0. 0. 0. 0. 0. 0. 0. 0. 0. 0. 0. 0. 0. 0. 0. 0. 0. 0. 0. 0. 0. 0.\n",
            "  0. 0. 0. 0. 0. 0. 0. 0. 0. 0. 0. 0. 0. 0. 0. 0.]\n",
            " [0. 0. 0. 0. 0. 0. 0. 0. 0. 0. 0. 0. 0. 0. 0. 0. 0. 0. 0. 0. 0. 0. 0. 0.\n",
            "  0. 0. 0. 0. 0. 0. 0. 0. 0. 0. 0. 0. 0. 0. 0. 0.]\n",
            " [0. 0. 0. 0. 0. 0. 0. 0. 0. 0. 0. 0. 0. 0. 0. 0. 0. 0. 0. 0. 0. 0. 0. 0.\n",
            "  0. 0. 0. 0. 0. 0. 0. 0. 0. 0. 0. 0. 0. 0. 0. 0.]\n",
            " [0. 0. 0. 0. 0. 0. 0. 0. 0. 0. 0. 0. 0. 0. 0. 0. 0. 0. 0. 0. 0. 0. 0. 0.\n",
            "  0. 0. 0. 0. 0. 0. 0. 0. 0. 0. 0. 0. 0. 0. 0. 0.]\n",
            " [0. 0. 0. 0. 0. 0. 0. 0. 0. 0. 0. 0. 0. 0. 0. 0. 0. 0. 0. 0. 0. 0. 0. 0.\n",
            "  0. 0. 0. 0. 0. 0. 0. 0. 0. 0. 0. 0. 0. 0. 0. 0.]\n",
            " [0. 0. 0. 0. 0. 0. 0. 0. 0. 0. 0. 0. 0. 0. 0. 0. 0. 0. 0. 0. 0. 0. 0. 0.\n",
            "  0. 0. 0. 0. 0. 0. 0. 0. 0. 0. 0. 0. 0. 0. 0. 0.]\n",
            " [0. 0. 0. 0. 0. 0. 0. 0. 0. 0. 0. 0. 0. 0. 0. 0. 0. 0. 0. 0. 0. 0. 0. 0.\n",
            "  0. 0. 0. 0. 0. 0. 0. 0. 0. 0. 0. 0. 0. 0. 0. 0.]\n",
            " [0. 0. 0. 0. 0. 0. 0. 0. 0. 0. 0. 0. 0. 0. 0. 0. 0. 0. 0. 0. 0. 0. 0. 0.\n",
            "  0. 0. 0. 0. 0. 0. 0. 0. 0. 0. 0. 0. 0. 0. 0. 0.]\n",
            " [0. 0. 0. 0. 0. 0. 0. 0. 0. 0. 0. 0. 0. 0. 0. 0. 0. 0. 0. 0. 0. 0. 0. 0.\n",
            "  0. 0. 0. 0. 0. 0. 0. 0. 0. 0. 0. 0. 0. 0. 0. 0.]\n",
            " [0. 0. 0. 0. 0. 0. 0. 0. 0. 0. 0. 0. 0. 0. 0. 0. 0. 0. 0. 0. 0. 0. 0. 0.\n",
            "  0. 0. 0. 0. 0. 0. 0. 0. 0. 0. 0. 0. 0. 0. 0. 0.]]\n"
          ]
        }
      ],
      "source": [
        "np.set_printoptions(threshold = float(\"inf\"))\n",
        "x = np.zeros((40,40))\n",
        "print(x)"
      ]
    },
    {
      "cell_type": "markdown",
      "metadata": {
        "id": "ioYPHqygrMTi"
      },
      "source": [
        "#### 50. How to find the closest value (to a given scalar) in a vector? (★★☆) \n",
        "(**hint**: argmin)"
      ]
    },
    {
      "cell_type": "code",
      "execution_count": null,
      "metadata": {
        "id": "7yVNqDOTrMTi",
        "colab": {
          "base_uri": "https://localhost:8080/"
        },
        "outputId": "a89c68d2-83b6-420a-cb21-0cf805277b10"
      },
      "outputs": [
        {
          "output_type": "stream",
          "name": "stdout",
          "text": [
            "66\n"
          ]
        }
      ],
      "source": [
        "x = np.arange(100)\n",
        "v = np.random.uniform(0,100)\n",
        "index = (np.abs(x-v).argmin())\n",
        "print(x[index])"
      ]
    },
    {
      "cell_type": "markdown",
      "metadata": {
        "id": "DkyUen-srMTi"
      },
      "source": [
        "#### 51. Create a structured array representing a position (x,y) and a color (r,g,b) (★★☆) \n",
        "(**hint**: dtype)"
      ]
    },
    {
      "cell_type": "code",
      "execution_count": null,
      "metadata": {
        "id": "TSp8hsBkrMTi",
        "colab": {
          "base_uri": "https://localhost:8080/"
        },
        "outputId": "cef3a7d3-2579-47d9-ee29-bd5145fcc9f7"
      },
      "outputs": [
        {
          "output_type": "stream",
          "name": "stdout",
          "text": [
            "[((0., 0.), (0., 0., 0.)) ((0., 0.), (0., 0., 0.))\n",
            " ((0., 0.), (0., 0., 0.)) ((0., 0.), (0., 0., 0.))\n",
            " ((0., 0.), (0., 0., 0.)) ((0., 0.), (0., 0., 0.))\n",
            " ((0., 0.), (0., 0., 0.)) ((0., 0.), (0., 0., 0.))\n",
            " ((0., 0.), (0., 0., 0.)) ((0., 0.), (0., 0., 0.))]\n"
          ]
        },
        {
          "output_type": "stream",
          "name": "stderr",
          "text": [
            "<ipython-input-3-3e1bfe05fb0c>:2: FutureWarning: Passing (type, 1) or '1type' as a synonym of type is deprecated; in a future version of numpy, it will be understood as (type, (1,)) / '(1,)type'.\n",
            "  x = np.zeros(10,[('position',[('x',float,1),\n"
          ]
        }
      ],
      "source": [
        "import numpy as np\n",
        "x = np.zeros(10,[('position',[('x',float,1),\n",
        "                              ('y',float,1)]),\n",
        "                  ('color',[('r',float,1),\n",
        "                              ('g',float,1),\n",
        "                              ('b',float,1)])])\n",
        "print(x)"
      ]
    },
    {
      "cell_type": "markdown",
      "metadata": {
        "id": "MF2RC0RFrMTi"
      },
      "source": [
        "#### 52. Consider a random vector with shape (100,2) representing coordinates, find point by point distances (★★☆) \n",
        "(**hint**: np.atleast\\_2d, T, np.sqrt)"
      ]
    },
    {
      "cell_type": "code",
      "execution_count": null,
      "metadata": {
        "id": "Jg11UKkarMTi",
        "colab": {
          "base_uri": "https://localhost:8080/"
        },
        "outputId": "94df72c6-a295-4fd9-b530-0a194c0e6140"
      },
      "outputs": [
        {
          "output_type": "stream",
          "name": "stdout",
          "text": [
            "[[0.         0.93575146 0.89798885 0.91754398 0.77603602 0.85517068\n",
            "  1.05575369 0.45086288 0.63120057 0.88760927]\n",
            " [0.93575146 0.         0.54343554 0.1466735  0.77461076 0.81052312\n",
            "  0.77839625 1.04041595 1.25427042 0.63917867]\n",
            " [0.89798885 0.54343554 0.         0.39944634 0.29364795 0.29524657\n",
            "  0.24598347 0.74499477 0.90669996 0.10231612]\n",
            " [0.91754398 0.1466735  0.39944634 0.         0.6452368  0.67485155\n",
            "  0.6319663  0.95867542 1.16385266 0.49728691]\n",
            " [0.77603602 0.77461076 0.29364795 0.6452368  0.         0.07990012\n",
            "  0.30247109 0.49981645 0.62894714 0.20480128]\n",
            " [0.85517068 0.81052312 0.29524657 0.67485155 0.07990012 0.\n",
            "  0.24103683 0.56208943 0.67195289 0.19473808]\n",
            " [1.05575369 0.77839625 0.24598347 0.6319663  0.30247109 0.24103683\n",
            "  0.         0.80089921 0.91078648 0.18513698]\n",
            " [0.45086288 1.04041595 0.74499477 0.95867542 0.49981645 0.56208943\n",
            "  0.80089921 0.         0.22465907 0.68503312]\n",
            " [0.63120057 1.25427042 0.90669996 1.16385266 0.62894714 0.67195289\n",
            "  0.91078648 0.22465907 0.         0.83090037]\n",
            " [0.88760927 0.63917867 0.10231612 0.49728691 0.20480128 0.19473808\n",
            "  0.18513698 0.68503312 0.83090037 0.        ]]\n"
          ]
        }
      ],
      "source": [
        "z = np.random.random((10,2))\n",
        "x,y = np.atleast_2d(z[:,0],z[:,1])\n",
        "d = np.sqrt((x - x.T)**2 + (y - y.T)**2)\n",
        "print(d)"
      ]
    },
    {
      "cell_type": "markdown",
      "metadata": {
        "id": "soB5MPpmrMTi"
      },
      "source": [
        "#### 53. How to convert a float (32 bits) array into an integer (32 bits) in place? \n",
        "(**hint**: astype(copy=False))"
      ]
    },
    {
      "cell_type": "code",
      "execution_count": null,
      "metadata": {
        "id": "VVwg7nNJrMTi",
        "colab": {
          "base_uri": "https://localhost:8080/"
        },
        "outputId": "b3e619bf-16e6-4560-8a05-b9046bd9103c"
      },
      "outputs": [
        {
          "output_type": "stream",
          "name": "stdout",
          "text": [
            "[2.38e-44 5.47e-44 5.04e-44 3.22e-44 7.43e-44 1.28e-43 9.11e-44 1.23e-43\n",
            " 1.12e-44 1.32e-43]\n"
          ]
        }
      ],
      "source": [
        "x = (np.random.rand(10)*100).astype(np.float32)\n",
        "y = x.view(np.int32)\n",
        "y[:] = x\n",
        "print(x)"
      ]
    },
    {
      "cell_type": "markdown",
      "metadata": {
        "id": "2bGT662arMTi"
      },
      "source": [
        "#### 54. How to read the following file? (★★☆) \n",
        "(**hint**: np.genfromtxt)"
      ]
    },
    {
      "cell_type": "markdown",
      "metadata": {
        "id": "qPGe-hbbrMTi"
      },
      "source": [
        "```\n",
        "1, 2, 3, 4, 5\n",
        "6,  ,  , 7, 8\n",
        " ,  , 9,10,11\n",
        "```"
      ]
    },
    {
      "cell_type": "code",
      "execution_count": null,
      "metadata": {
        "id": "P-gfJ64DrMTi",
        "colab": {
          "base_uri": "https://localhost:8080/"
        },
        "outputId": "8c0fa18b-d20c-480b-bdcb-102cce44d877"
      },
      "outputs": [
        {
          "output_type": "stream",
          "name": "stdout",
          "text": [
            "[ 1  2  3  4  5  6 -1 -1  7  8 -1  9 10 11]\n"
          ]
        },
        {
          "output_type": "stream",
          "name": "stderr",
          "text": [
            "<ipython-input-8-520aff69b99e>:3: DeprecationWarning: `np.int` is a deprecated alias for the builtin `int`. To silence this warning, use `int` by itself. Doing this will not modify any behavior and is safe. When replacing `np.int`, you may wish to use e.g. `np.int64` or `np.int32` to specify the precision. If you wish to review your current use, check the release note link for additional information.\n",
            "Deprecated in NumPy 1.20; for more details and guidance: https://numpy.org/devdocs/release/1.20.0-notes.html#deprecations\n",
            "  x = np.genfromtxt(s,delimiter = \",\",dtype = np.int)\n"
          ]
        }
      ],
      "source": [
        "from io import StringIO\n",
        "s = StringIO(''' 1,2,3,4,5,6, , ,7,8, ,9,10,11''')\n",
        "x = np.genfromtxt(s,delimiter = \",\",dtype = np.int)\n",
        "print(x)"
      ]
    },
    {
      "cell_type": "markdown",
      "metadata": {
        "id": "2vK62r_MrMTi"
      },
      "source": [
        "#### 55. What is the equivalent of enumerate for numpy arrays? (★★☆) \n",
        "(**hint**: np.ndenumerate, np.ndindex)"
      ]
    },
    {
      "cell_type": "code",
      "execution_count": null,
      "metadata": {
        "id": "L8PQOrJirMTi",
        "colab": {
          "base_uri": "https://localhost:8080/"
        },
        "outputId": "70897433-3fae-4d81-8a32-cdb02b686cc5"
      },
      "outputs": [
        {
          "output_type": "stream",
          "name": "stdout",
          "text": [
            "(0, 0) 0\n",
            "(0, 1) 1\n",
            "(0, 2) 2\n",
            "(1, 0) 3\n",
            "(1, 1) 4\n",
            "(1, 2) 5\n",
            "(2, 0) 6\n",
            "(2, 1) 7\n",
            "(2, 2) 8\n",
            "(0, 0) 0\n",
            "(0, 1) 1\n",
            "(0, 2) 2\n",
            "(1, 0) 3\n",
            "(1, 1) 4\n",
            "(1, 2) 5\n",
            "(2, 0) 6\n",
            "(2, 1) 7\n",
            "(2, 2) 8\n"
          ]
        }
      ],
      "source": [
        "x = np.arange(9).reshape(3,3)\n",
        "for index,value in np.ndenumerate(x):\n",
        "  print(index,value)\n",
        "for index in np.ndindex(x.shape):\n",
        "  print(index,x[index])"
      ]
    },
    {
      "cell_type": "markdown",
      "metadata": {
        "id": "ZP5L61IdrMTi"
      },
      "source": [
        "#### 56. Generate a generic 2D Gaussian-like array (★★☆) \n",
        "(**hint**: np.meshgrid, np.exp)"
      ]
    },
    {
      "cell_type": "code",
      "execution_count": null,
      "metadata": {
        "id": "Ey-UClierMTi",
        "colab": {
          "base_uri": "https://localhost:8080/"
        },
        "outputId": "b2781538-d212-4aec-a10a-2cb74ded02e6"
      },
      "outputs": [
        {
          "output_type": "stream",
          "name": "stdout",
          "text": [
            "[[0.36787944 0.44822088 0.51979489 0.57375342 0.60279818 0.60279818\n",
            "  0.57375342 0.51979489 0.44822088 0.36787944]\n",
            " [0.44822088 0.54610814 0.63331324 0.69905581 0.73444367 0.73444367\n",
            "  0.69905581 0.63331324 0.54610814 0.44822088]\n",
            " [0.51979489 0.63331324 0.73444367 0.81068432 0.85172308 0.85172308\n",
            "  0.81068432 0.73444367 0.63331324 0.51979489]\n",
            " [0.57375342 0.69905581 0.81068432 0.89483932 0.9401382  0.9401382\n",
            "  0.89483932 0.81068432 0.69905581 0.57375342]\n",
            " [0.60279818 0.73444367 0.85172308 0.9401382  0.98773022 0.98773022\n",
            "  0.9401382  0.85172308 0.73444367 0.60279818]\n",
            " [0.60279818 0.73444367 0.85172308 0.9401382  0.98773022 0.98773022\n",
            "  0.9401382  0.85172308 0.73444367 0.60279818]\n",
            " [0.57375342 0.69905581 0.81068432 0.89483932 0.9401382  0.9401382\n",
            "  0.89483932 0.81068432 0.69905581 0.57375342]\n",
            " [0.51979489 0.63331324 0.73444367 0.81068432 0.85172308 0.85172308\n",
            "  0.81068432 0.73444367 0.63331324 0.51979489]\n",
            " [0.44822088 0.54610814 0.63331324 0.69905581 0.73444367 0.73444367\n",
            "  0.69905581 0.63331324 0.54610814 0.44822088]\n",
            " [0.36787944 0.44822088 0.51979489 0.57375342 0.60279818 0.60279818\n",
            "  0.57375342 0.51979489 0.44822088 0.36787944]]\n"
          ]
        }
      ],
      "source": [
        "x, y = np.meshgrid(np.linspace(-1,1,10),np.linspace(-1,1,10))\n",
        "d = np.sqrt(x*x + y*y)\n",
        "sigma,mu = 1.0,0.0\n",
        "g = np.exp(-( (d-mu)** 2) / (2.0 * sigma ** 2))\n",
        "print(g)"
      ]
    },
    {
      "cell_type": "markdown",
      "metadata": {
        "id": "9BUm067xrMTj"
      },
      "source": [
        "#### 57. How to randomly place p elements in a 2D array? (★★☆) \n",
        "(**hint**: np.put, np.random.choice)"
      ]
    },
    {
      "cell_type": "code",
      "execution_count": null,
      "metadata": {
        "id": "sJCjt_FVrMTj",
        "colab": {
          "base_uri": "https://localhost:8080/"
        },
        "outputId": "0dfb5e5b-68a6-457e-f12d-e8715ba84d9b"
      },
      "outputs": [
        {
          "output_type": "stream",
          "name": "stdout",
          "text": [
            "[[0. 0. 0. 0. 0. 0. 0. 0. 0. 0.]\n",
            " [0. 0. 0. 0. 0. 0. 0. 0. 0. 0.]\n",
            " [0. 0. 0. 0. 0. 0. 0. 0. 0. 0.]\n",
            " [0. 0. 0. 0. 0. 0. 0. 0. 0. 0.]\n",
            " [0. 0. 0. 0. 0. 0. 0. 0. 0. 0.]\n",
            " [0. 0. 0. 0. 0. 0. 0. 0. 0. 0.]\n",
            " [0. 0. 0. 0. 0. 0. 0. 0. 0. 0.]\n",
            " [0. 0. 0. 0. 0. 1. 0. 0. 0. 0.]\n",
            " [0. 0. 0. 0. 1. 0. 0. 1. 0. 0.]\n",
            " [0. 0. 0. 0. 0. 0. 0. 0. 0. 0.]]\n"
          ]
        }
      ],
      "source": [
        "n = 10\n",
        "p = 3\n",
        "x = np.zeros((n,n))\n",
        "np.put(x,np.random.choice(range(n*n),p, replace = False),1)\n",
        "print(x)"
      ]
    },
    {
      "cell_type": "markdown",
      "metadata": {
        "id": "N_a3sukCrMTm"
      },
      "source": [
        "#### 58. Subtract the mean of each row of a matrix (★★☆) \n",
        "(**hint**: mean(axis=,keepdims=))"
      ]
    },
    {
      "cell_type": "code",
      "execution_count": null,
      "metadata": {
        "id": "6giN260_rMTm",
        "colab": {
          "base_uri": "https://localhost:8080/"
        },
        "outputId": "8bd493cb-6f80-42f8-dba2-f4559fb5ad70"
      },
      "outputs": [
        {
          "output_type": "stream",
          "name": "stdout",
          "text": [
            "[[0.42040904]\n",
            " [0.47235791]\n",
            " [0.56824074]\n",
            " [0.46591954]\n",
            " [0.46232833]]\n"
          ]
        }
      ],
      "source": [
        "x = np.random.rand(5,10)\n",
        "y = x = x.mean(axis = 1,keepdims = True)\n",
        "print(y)"
      ]
    },
    {
      "cell_type": "markdown",
      "metadata": {
        "id": "9SvLKcTDrMTm"
      },
      "source": [
        "#### 59. How to sort an array by the nth column? (★★☆) \n",
        "(**hint**: argsort)"
      ]
    },
    {
      "cell_type": "code",
      "execution_count": null,
      "metadata": {
        "id": "NKmzISqwrMTm",
        "colab": {
          "base_uri": "https://localhost:8080/"
        },
        "outputId": "db121e1a-d538-4e9b-c84d-2e6c203ee30a"
      },
      "outputs": [
        {
          "output_type": "stream",
          "name": "stdout",
          "text": [
            "[[1 8 0]\n",
            " [2 3 0]\n",
            " [9 3 4]]\n",
            "[[2 3 0]\n",
            " [9 3 4]\n",
            " [1 8 0]]\n"
          ]
        }
      ],
      "source": [
        "x = np.random.randint(0,10,(3,3))\n",
        "print(x)\n",
        "print(x[x[:,1].argsort()])"
      ]
    },
    {
      "cell_type": "markdown",
      "metadata": {
        "id": "hJHufsrqrMTm"
      },
      "source": [
        "#### 60. How to tell if a given 2D array has null columns? (★★☆) \n",
        "(**hint**: any, ~)"
      ]
    },
    {
      "cell_type": "code",
      "execution_count": null,
      "metadata": {
        "id": "_Tx9JdrHrMTn",
        "colab": {
          "base_uri": "https://localhost:8080/"
        },
        "outputId": "ceb56224-42dc-43c9-f173-2029b6b542ec"
      },
      "outputs": [
        {
          "output_type": "stream",
          "name": "stdout",
          "text": [
            "False\n",
            "[False False  True]\n"
          ]
        }
      ],
      "source": [
        "import numpy as np\n",
        "x= np.random.randint(0,3,(3,10))\n",
        "print((~x.any(axis=0)).any())\n",
        "x= np.array([\n",
        "            [0,1,np.nan],\n",
        "            [1,2,np.nan],\n",
        "             [4,5,np.nan]\n",
        "              ])\n",
        "print(np.isnan(x).all(axis=0))\n"
      ]
    },
    {
      "cell_type": "markdown",
      "metadata": {
        "id": "4gnc969TrMTn"
      },
      "source": [
        "#### 61. Find the nearest value from a given value in an array (★★☆) \n",
        "(**hint**: np.abs, argmin, flat)"
      ]
    },
    {
      "cell_type": "code",
      "execution_count": null,
      "metadata": {
        "id": "oQF2A-w9rMTn",
        "colab": {
          "base_uri": "https://localhost:8080/"
        },
        "outputId": "b3163cd5-a190-4cc9-b04b-acffe1927019"
      },
      "outputs": [
        {
          "output_type": "stream",
          "name": "stdout",
          "text": [
            "0.5124329682218781\n"
          ]
        }
      ],
      "source": [
        "Z = np.random.uniform(0,1,10)\n",
        "z = 0.5\n",
        "m = Z.flat[np.abs(Z - z).argmin()]\n",
        "print(m)"
      ]
    },
    {
      "cell_type": "markdown",
      "metadata": {
        "id": "vR6Gg9rarMTn"
      },
      "source": [
        "#### 62. Considering two arrays with shape (1,3) and (3,1), how to compute their sum using an iterator? (★★☆) \n",
        "(**hint**: np.nditer)"
      ]
    },
    {
      "cell_type": "code",
      "execution_count": null,
      "metadata": {
        "id": "emRRQo4FrMTn",
        "colab": {
          "base_uri": "https://localhost:8080/"
        },
        "outputId": "b277fc40-5fc2-48e5-d75f-29fca2c85688"
      },
      "outputs": [
        {
          "output_type": "stream",
          "name": "stdout",
          "text": [
            "[[0]\n",
            " [2]\n",
            " [4]]\n"
          ]
        }
      ],
      "source": [
        "A = np.arange(3).reshape(3,1)\n",
        "B = np.arange(3).reshape(3,1)\n",
        "it = np.nditer([A,B,None])\n",
        "for x,y,z in it:\n",
        "  z[...] = x+y\n",
        "print(it.operands[2])"
      ]
    },
    {
      "cell_type": "markdown",
      "metadata": {
        "id": "lNwQbPLXrMTo"
      },
      "source": [
        "#### 63. Create an array class that has a name attribute (★★☆) \n",
        "(**hint**: class method)"
      ]
    },
    {
      "cell_type": "code",
      "execution_count": null,
      "metadata": {
        "id": "0vbc7g7BrMTo",
        "colab": {
          "base_uri": "https://localhost:8080/"
        },
        "outputId": "05b2be01-787a-41fc-d042-4aa6220e812f"
      },
      "outputs": [
        {
          "output_type": "stream",
          "name": "stdout",
          "text": [
            "range_10\n"
          ]
        }
      ],
      "source": [
        "class NamedArray(np.ndarray):\n",
        "  def __new__(cls,array,name = \"no name\"):\n",
        "    obj = np.asarray(array).view(cls)\n",
        "    obj.name = name\n",
        "    return obj\n",
        "  def __array_finalize__(self,obj):\n",
        "    if obj is None:\n",
        "      return\n",
        "    self.name = getattr(obj,'name','no name')\n",
        "Z = NamedArray(np.arange(10), \"range_10\")\n",
        "print (Z.name)\n",
        "\n"
      ]
    },
    {
      "cell_type": "markdown",
      "metadata": {
        "id": "3yzvWsElrMTo"
      },
      "source": [
        "#### 64. Consider a given vector, how to add 1 to each element indexed by a second vector (be careful with repeated indices)? (★★★) \n",
        "(**hint**: np.bincount | np.add.at)"
      ]
    },
    {
      "cell_type": "code",
      "execution_count": null,
      "metadata": {
        "id": "ztQ-zka9rMTo",
        "colab": {
          "base_uri": "https://localhost:8080/"
        },
        "outputId": "22bd6270-bf9f-4c76-a65b-f574f1efcb7e"
      },
      "outputs": [
        {
          "output_type": "stream",
          "name": "stdout",
          "text": [
            "[4. 5. 2. 2. 3. 2. 3. 2. 5. 2.]\n"
          ]
        }
      ],
      "source": [
        "Z = np.ones(10)\n",
        "I = np.random.randint(0,len(Z),20)\n",
        "Z += np.bincount(I, minlength=len(Z))\n",
        "print(Z)"
      ]
    },
    {
      "cell_type": "markdown",
      "metadata": {
        "id": "Z_RTYQ4rrMTo"
      },
      "source": [
        "#### 65. How to accumulate elements of a vector (X) to an array (F) based on an index list (I)? (★★★) \n",
        "(**hint**: np.bincount)"
      ]
    },
    {
      "cell_type": "code",
      "execution_count": null,
      "metadata": {
        "id": "6YIxuMD4rMTo",
        "colab": {
          "base_uri": "https://localhost:8080/"
        },
        "outputId": "14d7a458-3f09-4d29-b46e-a9a0edb8888c"
      },
      "outputs": [
        {
          "output_type": "stream",
          "name": "stdout",
          "text": [
            "[0. 7. 0. 6. 5. 0. 0. 0. 0. 3.]\n"
          ]
        }
      ],
      "source": [
        "X  = [1,2,3,4,5,6]\n",
        "I  = [1,3,9,3,4,1]\n",
        "F = np.bincount(I,X)\n",
        "print(F)"
      ]
    },
    {
      "cell_type": "markdown",
      "metadata": {
        "id": "hYkRTv3frMTo"
      },
      "source": [
        "#### 66. Considering a (w,h,3) image of (dtype=ubyte), compute the number of unique colors (★★★) \n",
        "(**hint**: np.unique)"
      ]
    },
    {
      "cell_type": "code",
      "execution_count": null,
      "metadata": {
        "id": "RGZSu5ZVrMTq",
        "colab": {
          "base_uri": "https://localhost:8080/"
        },
        "outputId": "640a43e6-1866-4c36-84df-f1ecf89df351"
      },
      "outputs": [
        {
          "output_type": "stream",
          "name": "stdout",
          "text": [
            "64\n"
          ]
        }
      ],
      "source": [
        "w , h = 256 , 256\n",
        "I = np.random.randint(0, 4,(h,w,3)).astype(np.ubyte)\n",
        "colors = np.unique(I.reshape(-1,3),axis = 0)\n",
        "n = len(colors)\n",
        "print(n)"
      ]
    },
    {
      "cell_type": "markdown",
      "metadata": {
        "id": "tjD555vcrMTq"
      },
      "source": [
        "#### 67. Considering a four dimensions array, how to get sum over the last two axis at once? (★★★) \n",
        "(**hint**: sum(axis=(-2,-1)))"
      ]
    },
    {
      "cell_type": "code",
      "execution_count": null,
      "metadata": {
        "id": "Xrg0h4fRrMTq",
        "colab": {
          "base_uri": "https://localhost:8080/"
        },
        "outputId": "b9c2c675-070b-4e89-dcfe-3bfbbfd27c5e"
      },
      "outputs": [
        {
          "output_type": "stream",
          "name": "stdout",
          "text": [
            "[[[[7 0 5 4]\n",
            "   [7 8 0 0]\n",
            "   [5 9 1 7]]\n",
            "\n",
            "  [[3 8 3 8]\n",
            "   [0 9 7 5]\n",
            "   [2 2 5 7]]\n",
            "\n",
            "  [[1 7 5 9]\n",
            "   [9 1 6 0]\n",
            "   [1 2 8 5]]\n",
            "\n",
            "  [[0 4 0 6]\n",
            "   [5 5 3 6]\n",
            "   [4 7 3 7]]]\n",
            "\n",
            "\n",
            " [[[8 1 6 9]\n",
            "   [5 2 0 1]\n",
            "   [2 1 7 4]]\n",
            "\n",
            "  [[5 8 5 2]\n",
            "   [0 5 2 7]\n",
            "   [9 4 5 1]]\n",
            "\n",
            "  [[8 2 6 9]\n",
            "   [7 0 6 1]\n",
            "   [1 0 6 2]]\n",
            "\n",
            "  [[7 2 6 5]\n",
            "   [0 9 3 7]\n",
            "   [9 5 5 2]]]\n",
            "\n",
            "\n",
            " [[[2 9 2 8]\n",
            "   [3 5 7 2]\n",
            "   [5 1 0 5]]\n",
            "\n",
            "  [[8 0 8 2]\n",
            "   [5 6 4 8]\n",
            "   [1 5 5 2]]\n",
            "\n",
            "  [[5 0 4 5]\n",
            "   [9 0 6 8]\n",
            "   [1 7 6 4]]\n",
            "\n",
            "  [[8 0 7 9]\n",
            "   [6 5 8 6]\n",
            "   [9 8 6 8]]]]\n",
            "[[53 59 54 50]\n",
            " [46 53 48 60]\n",
            " [49 54 55 80]]\n"
          ]
        }
      ],
      "source": [
        " A = np.random.randint(0,10,(3,4,3,4))\n",
        " print(A)\n",
        " sum = A.sum(axis = (-2,-1))\n",
        " print(sum)"
      ]
    },
    {
      "cell_type": "markdown",
      "metadata": {
        "id": "RzgGMkmhrMTq"
      },
      "source": [
        "#### 68. Considering a one-dimensional vector D, how to compute means of subsets of D using a vector S of same size describing subset  indices? (★★★) \n",
        "(**hint**: np.bincount)"
      ]
    },
    {
      "cell_type": "code",
      "execution_count": null,
      "metadata": {
        "id": "LbgU3M7IrMTq",
        "colab": {
          "base_uri": "https://localhost:8080/"
        },
        "outputId": "74698096-16fd-4242-fc66-92dd763e3ced"
      },
      "outputs": [
        {
          "output_type": "stream",
          "name": "stdout",
          "text": [
            "[0.60097132 0.39631537 0.39830812 0.49151167 0.45583575 0.34299198\n",
            " 0.35764858 0.51414366 0.41027161 0.48287966]\n"
          ]
        }
      ],
      "source": [
        "D = np.random.uniform(0,1,100)\n",
        "S = np.random.randint(0,10,100)\n",
        "D_sums = np.bincount(S,weights = D)\n",
        "D_counts = np.bincount(S)\n",
        "D_means = D_sums / D_counts\n",
        "print(D_means)"
      ]
    },
    {
      "cell_type": "markdown",
      "metadata": {
        "id": "XgofpkySrMTq"
      },
      "source": [
        "#### 69. How to get the diagonal of a dot product? (★★★) \n",
        "(**hint**: np.diag)"
      ]
    },
    {
      "cell_type": "code",
      "execution_count": null,
      "metadata": {
        "id": "FBE5qi0irMTq",
        "colab": {
          "base_uri": "https://localhost:8080/"
        },
        "outputId": "eb96e292-18c4-4929-bd65-d4eb1d0ffb8f"
      },
      "outputs": [
        {
          "output_type": "execute_result",
          "data": {
            "text/plain": [
              "array([1.0991018 , 0.79672458, 0.85228742, 1.18804771, 1.66830447])"
            ]
          },
          "metadata": {},
          "execution_count": 18
        }
      ],
      "source": [
        "A = np.random.uniform(0,1,(5,5))\n",
        "B = np.random.uniform(0,1,(5,5))\n",
        "np.diag(np.dot(A, B))"
      ]
    },
    {
      "cell_type": "markdown",
      "metadata": {
        "id": "nml8BzxarMTq"
      },
      "source": [
        "#### 70. Consider the vector \\[1, 2, 3, 4, 5\\], how to build a new vector with 3 consecutive zeros interleaved between each value? (★★★) \n",
        "(**hint**: array\\[::4\\])"
      ]
    },
    {
      "cell_type": "code",
      "execution_count": null,
      "metadata": {
        "id": "Qdh1CacbrMTr",
        "colab": {
          "base_uri": "https://localhost:8080/"
        },
        "outputId": "06d34aa7-2494-4818-8bc7-c9a175b7a0ac"
      },
      "outputs": [
        {
          "output_type": "stream",
          "name": "stdout",
          "text": [
            "[1. 0. 0. 0. 2. 0. 0. 0. 3. 0. 0. 0. 4. 0. 0. 0. 5.]\n"
          ]
        }
      ],
      "source": [
        "Z = np.array([1,2,3,4,5])\n",
        "nz =3\n",
        "Z0 = np.zeros(len(Z) + (len(Z)-1) * (nz))\n",
        "Z0[::nz+1] = Z\n",
        "print(Z0)"
      ]
    },
    {
      "cell_type": "markdown",
      "metadata": {
        "id": "THgjsxC7rMTr"
      },
      "source": [
        "#### 71. Consider an array of dimension (5,5,3), how to mulitply it by an array with dimensions (5,5)? (★★★) \n",
        "(**hint**: array\\[:, :, None\\])"
      ]
    },
    {
      "cell_type": "code",
      "execution_count": null,
      "metadata": {
        "collapsed": true,
        "id": "QL1ofyu6rMTr",
        "colab": {
          "base_uri": "https://localhost:8080/"
        },
        "outputId": "ae386aed-eafb-4baa-a9d4-723e521c1bae"
      },
      "outputs": [
        {
          "output_type": "stream",
          "name": "stdout",
          "text": [
            "[[[2. 2. 2.]\n",
            "  [2. 2. 2.]\n",
            "  [2. 2. 2.]\n",
            "  [2. 2. 2.]\n",
            "  [2. 2. 2.]]\n",
            "\n",
            " [[2. 2. 2.]\n",
            "  [2. 2. 2.]\n",
            "  [2. 2. 2.]\n",
            "  [2. 2. 2.]\n",
            "  [2. 2. 2.]]\n",
            "\n",
            " [[2. 2. 2.]\n",
            "  [2. 2. 2.]\n",
            "  [2. 2. 2.]\n",
            "  [2. 2. 2.]\n",
            "  [2. 2. 2.]]\n",
            "\n",
            " [[2. 2. 2.]\n",
            "  [2. 2. 2.]\n",
            "  [2. 2. 2.]\n",
            "  [2. 2. 2.]\n",
            "  [2. 2. 2.]]\n",
            "\n",
            " [[2. 2. 2.]\n",
            "  [2. 2. 2.]\n",
            "  [2. 2. 2.]\n",
            "  [2. 2. 2.]\n",
            "  [2. 2. 2.]]]\n"
          ]
        }
      ],
      "source": [
        "A = np.ones((5,5,3))\n",
        "B = 2 * np.ones((5,5))\n",
        "print(A*B[:,:,None])"
      ]
    },
    {
      "cell_type": "markdown",
      "metadata": {
        "id": "GRHSRgDrrMTr"
      },
      "source": [
        "#### 72. How to swap two rows of an array? (★★★) \n",
        "(**hint**: array\\[\\[\\]\\] = array\\[\\[\\]\\])"
      ]
    },
    {
      "cell_type": "code",
      "execution_count": null,
      "metadata": {
        "id": "P-09Egt5rMTr",
        "colab": {
          "base_uri": "https://localhost:8080/"
        },
        "outputId": "8a054db0-efd3-4b98-c659-63be78d4e447"
      },
      "outputs": [
        {
          "output_type": "stream",
          "name": "stdout",
          "text": [
            "[[[1. 1. 1.]\n",
            "  [1. 1. 1.]\n",
            "  [1. 1. 1.]\n",
            "  [1. 1. 1.]\n",
            "  [1. 1. 1.]]\n",
            "\n",
            " [[1. 1. 1.]\n",
            "  [1. 1. 1.]\n",
            "  [1. 1. 1.]\n",
            "  [1. 1. 1.]\n",
            "  [1. 1. 1.]]\n",
            "\n",
            " [[1. 1. 1.]\n",
            "  [1. 1. 1.]\n",
            "  [1. 1. 1.]\n",
            "  [1. 1. 1.]\n",
            "  [1. 1. 1.]]\n",
            "\n",
            " [[1. 1. 1.]\n",
            "  [1. 1. 1.]\n",
            "  [1. 1. 1.]\n",
            "  [1. 1. 1.]\n",
            "  [1. 1. 1.]]\n",
            "\n",
            " [[1. 1. 1.]\n",
            "  [1. 1. 1.]\n",
            "  [1. 1. 1.]\n",
            "  [1. 1. 1.]\n",
            "  [1. 1. 1.]]]\n"
          ]
        }
      ],
      "source": [
        "A[[0,1]] = A[[1,0]]\n",
        "print(A)"
      ]
    },
    {
      "cell_type": "markdown",
      "metadata": {
        "id": "H5h_MsBPrMTs"
      },
      "source": [
        "#### 73. Consider a set of 10 triplets describing 10 triangles (with shared vertices), find the set of unique line segments composing all the  triangles (★★★) \n",
        "(**hint**: repeat, np.roll, np.sort, view, np.unique)"
      ]
    },
    {
      "cell_type": "code",
      "execution_count": null,
      "metadata": {
        "id": "Oj-vftIdrMTs",
        "colab": {
          "base_uri": "https://localhost:8080/"
        },
        "outputId": "74c12adb-7312-41ac-99be-9d1301e4e1c2"
      },
      "outputs": [
        {
          "output_type": "stream",
          "name": "stdout",
          "text": [
            "[( 1, 21) ( 1, 55) ( 4, 72) ( 4, 92) ( 5, 47) ( 5, 77) (21, 55) (22, 50)\n",
            " (22, 58) (23, 27) (23, 53) (25, 65) (25, 78) (27, 52) (27, 53) (27, 95)\n",
            " (42, 83) (42, 99) (46, 57) (46, 94) (47, 49) (47, 77) (47, 90) (49, 90)\n",
            " (50, 58) (52, 95) (57, 94) (65, 78) (72, 92) (83, 99)]\n"
          ]
        }
      ],
      "source": [
        "faces = np.random.randint(0,100,(10,3))\n",
        "F = np.roll(faces.repeat(2,axis =1),-1,axis = 1)\n",
        "F = F.reshape(len(F)*3,2)\n",
        "F = np.sort(F,axis = 1)\n",
        "G = F.view(dtype = [('p0',F.dtype),('p1',F.dtype)])\n",
        "G = np.unique(G)\n",
        "print(G)"
      ]
    },
    {
      "cell_type": "markdown",
      "metadata": {
        "id": "dFrZMu3DrMTs"
      },
      "source": [
        "#### 74. Given an array C that is a bincount, how to produce an array A such that np.bincount(A) == C? (★★★) \n",
        "(**hint**: np.repeat)"
      ]
    },
    {
      "cell_type": "code",
      "execution_count": null,
      "metadata": {
        "id": "tvAXYuQKrMTt",
        "colab": {
          "base_uri": "https://localhost:8080/"
        },
        "outputId": "88350139-892f-4097-db4a-bb1202a2df18"
      },
      "outputs": [
        {
          "output_type": "stream",
          "name": "stdout",
          "text": [
            "[1 1 2 3 4 4 6]\n"
          ]
        }
      ],
      "source": [
        "C = np.bincount([1,1,2,3,4,4,6])\n",
        "A = np.repeat(np.arange(len(C)),C)\n",
        "print(A)"
      ]
    },
    {
      "cell_type": "markdown",
      "metadata": {
        "id": "DBov0XXQrMTt"
      },
      "source": [
        "#### 75. How to compute averages using a sliding window over an array? (★★★) \n",
        "(**hint**: np.cumsum)"
      ]
    },
    {
      "cell_type": "code",
      "execution_count": null,
      "metadata": {
        "id": "dcKxOsulrMTt",
        "colab": {
          "base_uri": "https://localhost:8080/"
        },
        "outputId": "677bad03-446a-4225-8571-32c4010a321e"
      },
      "outputs": [
        {
          "output_type": "stream",
          "name": "stdout",
          "text": [
            "[ 1.  2.  3.  4.  5.  6.  7.  8.  9. 10. 11. 12. 13. 14. 15. 16. 17. 18.]\n"
          ]
        }
      ],
      "source": [
        "import numpy as np\n",
        "from numpy.lib.stride_tricks import sliding_window_view\n",
        "\n",
        "Z = np.arange(20)\n",
        "print(sliding_window_view(Z, window_shape=3).mean(axis=-1))"
      ]
    },
    {
      "cell_type": "markdown",
      "metadata": {
        "id": "sLEDlHNdrMTt"
      },
      "source": [
        "#### 76. Consider a one-dimensional array Z, build a two-dimensional array whose first row is (Z\\[0\\],Z\\[1\\],Z\\[2\\]) and each subsequent row is  shifted by 1 (last row should be (Z\\[-3\\],Z\\[-2\\],Z\\[-1\\]) (★★★) \n",
        "(**hint**: from numpy.lib import stride_tricks)"
      ]
    },
    {
      "cell_type": "code",
      "execution_count": null,
      "metadata": {
        "id": "9IX4D4DmrMTt",
        "colab": {
          "base_uri": "https://localhost:8080/"
        },
        "outputId": "c7bd1c16-cd94-4342-9796-77bf9f6357e5"
      },
      "outputs": [
        {
          "output_type": "stream",
          "name": "stdout",
          "text": [
            "[[0 1 2]\n",
            " [1 2 3]\n",
            " [2 3 4]\n",
            " [3 4 5]\n",
            " [4 5 6]\n",
            " [5 6 7]\n",
            " [6 7 8]\n",
            " [7 8 9]]\n"
          ]
        }
      ],
      "source": [
        "Z = np.arange(10)\n",
        "print(sliding_window_view(Z,window_shape = 3))"
      ]
    },
    {
      "cell_type": "markdown",
      "metadata": {
        "id": "Q4hmkgWDrMTt"
      },
      "source": [
        "#### 77. How to negate a boolean, or to change the sign of a float inplace? (★★★) \n",
        "(**hint**: np.logical_not, np.negative)"
      ]
    },
    {
      "cell_type": "code",
      "execution_count": null,
      "metadata": {
        "id": "ZipS_88krMTt",
        "colab": {
          "base_uri": "https://localhost:8080/"
        },
        "outputId": "ae4018a0-bf79-40cf-a247-b5f90b6ae7eb"
      },
      "outputs": [
        {
          "output_type": "execute_result",
          "data": {
            "text/plain": [
              "array([ 0, -1, -1, -1, -1,  0,  0,  0,  0, -1,  0, -1,  0, -1, -1,  0,  0,\n",
              "       -1, -1, -1, -1, -1, -1,  0, -1,  0, -1, -1,  0,  0,  0, -1,  0,  0,\n",
              "       -1, -1,  0, -1,  0,  0,  0,  0,  0,  0, -1,  0,  0, -1, -1, -1,  0,\n",
              "        0,  0, -1,  0,  0,  0, -1,  0, -1,  0, -1, -1,  0,  0,  0, -1,  0,\n",
              "       -1, -1,  0,  0, -1, -1, -1,  0,  0,  0, -1, -1, -1, -1,  0,  0,  0,\n",
              "        0,  0,  0, -1, -1,  0,  0, -1, -1, -1, -1,  0, -1, -1, -1])"
            ]
          },
          "metadata": {},
          "execution_count": 4
        }
      ],
      "source": [
        "Z = np.random.randint(0,2,100)\n",
        "np.negative(Z,out =Z)"
      ]
    },
    {
      "cell_type": "markdown",
      "metadata": {
        "id": "rBlHE6PTrMTt"
      },
      "source": [
        "#### 78. Consider 2 sets of points P0,P1 describing lines (2d) and a point p, how to compute distance from p to each line i  (P0\\[i\\],P1\\[i\\])? (★★★)"
      ]
    },
    {
      "cell_type": "code",
      "execution_count": null,
      "metadata": {
        "id": "uHPA9g4arMTt",
        "colab": {
          "base_uri": "https://localhost:8080/"
        },
        "outputId": "465e3695-b527-48ad-f2cf-6a766ac9a734"
      },
      "outputs": [
        {
          "output_type": "stream",
          "name": "stdout",
          "text": [
            "[13.05436562  3.62330648 14.54391962  1.13177768 15.97381086  9.32214681\n",
            " 12.72058078  0.55581958 12.22582116  7.6341198 ]\n"
          ]
        }
      ],
      "source": [
        "def distance(P0,P1,p):\n",
        "  T = P1 -P0\n",
        "  L = (T**2).sum(axis = 1)\n",
        "  U = -((P0[:,0]-p[...,0])*T[:,0] + (P0[:,1]-p[...,1])*T[:,1])/L\n",
        "  U = U.reshape(len(U),1)\n",
        "  D = P0 + U*T - p\n",
        "  return np.sqrt((D**2).sum(axis=1))\n",
        "P0 = np.random.uniform(-10,10,(10,2))\n",
        "P1 = np.random.uniform(-10,10,(10,2))\n",
        "p = np.random.uniform(-10,10,( 1,2))\n",
        "print(distance(P0,P1,p))"
      ]
    },
    {
      "cell_type": "markdown",
      "metadata": {
        "id": "OqVAGHPXrMTt"
      },
      "source": [
        "#### 79. Consider 2 sets of points P0,P1 describing lines (2d) and a set of points P, how to compute distance from each point j (P\\[j\\]) to each line i (P0\\[i\\],P1\\[i\\])? (★★★)"
      ]
    },
    {
      "cell_type": "code",
      "execution_count": null,
      "metadata": {
        "id": "HmRa6lN1rMTt",
        "colab": {
          "base_uri": "https://localhost:8080/"
        },
        "outputId": "bf4eafd3-ff60-4faa-b3e8-d4dbdd0c6fbd"
      },
      "outputs": [
        {
          "output_type": "stream",
          "name": "stdout",
          "text": [
            "[[ 2.85103181  0.88284559  3.60602224  4.93058267 10.26546136  5.89335346\n",
            "   4.03537364 13.64819355  3.58265287  5.91608829]]\n"
          ]
        }
      ],
      "source": [
        "P0 = np.random.uniform(-10,10,(10,2))\n",
        "P1 = np.random.uniform(-10,10,(10,2))\n",
        "p = np.random.uniform(-10,10,( 1,2))\n",
        "print(np.array([distance(P0,P1,p_i) for p_i in p]))"
      ]
    },
    {
      "cell_type": "markdown",
      "metadata": {
        "id": "-ixso3OUrMTt"
      },
      "source": [
        "#### 80. Consider an arbitrary array, write a function that extract a subpart with a fixed shape and centered on a given element (pad with a `fill` value when necessary) (★★★) \n",
        "(**hint**: minimum, maximum)"
      ]
    },
    {
      "cell_type": "code",
      "execution_count": null,
      "metadata": {
        "id": "5X_z3TvtrMTt",
        "colab": {
          "base_uri": "https://localhost:8080/"
        },
        "outputId": "0e5858b5-ef7f-4d0d-af9e-88fe51336d35"
      },
      "outputs": [
        {
          "output_type": "stream",
          "name": "stdout",
          "text": [
            "[[5 0 0 0 0 1 2 8 2 2]\n",
            " [3 1 0 5 0 3 1 1 3 3]\n",
            " [9 2 3 7 0 1 8 5 6 6]\n",
            " [9 4 6 8 3 2 3 5 8 6]\n",
            " [5 1 7 0 1 9 8 4 8 4]\n",
            " [5 8 5 3 3 4 9 9 4 4]\n",
            " [0 6 5 4 4 9 9 0 1 0]\n",
            " [2 8 1 5 3 1 5 2 7 4]\n",
            " [7 6 4 8 0 6 7 0 8 7]\n",
            " [4 7 3 6 4 0 5 1 9 7]]\n",
            "[[0 0 0 0 0]\n",
            " [0 5 0 0 0]\n",
            " [0 3 1 0 5]\n",
            " [0 9 2 3 7]\n",
            " [0 9 4 6 8]]\n"
          ]
        },
        {
          "output_type": "stream",
          "name": "stderr",
          "text": [
            "<ipython-input-10-f2b5781f38bf>:23: FutureWarning: Using a non-tuple sequence for multidimensional indexing is deprecated; use `arr[tuple(seq)]` instead of `arr[seq]`. In the future this will be interpreted as an array index, `arr[np.array(seq)]`, which will result either in an error or a different result.\n",
            "  R[r] = Z[z]\n"
          ]
        }
      ],
      "source": [
        "Z = np.random.randint(0,10,(10,10))\n",
        "shape = (5,5)\n",
        "fill  = 0\n",
        "position = (1,1)\n",
        "\n",
        "R = np.ones(shape, dtype=Z.dtype)*fill\n",
        "P  = np.array(list(position)).astype(int)\n",
        "Rs = np.array(list(R.shape)).astype(int)\n",
        "Zs = np.array(list(Z.shape)).astype(int)\n",
        "\n",
        "R_start = np.zeros((len(shape),)).astype(int)\n",
        "R_stop  = np.array(list(shape)).astype(int)\n",
        "Z_start = (P-Rs//2)\n",
        "Z_stop  = (P+Rs//2)+Rs%2\n",
        "\n",
        "R_start = (R_start - np.minimum(Z_start,0)).tolist()\n",
        "Z_start = (np.maximum(Z_start,0)).tolist()\n",
        "R_stop = np.maximum(R_start, (R_stop - np.maximum(Z_stop-Zs,0))).tolist()\n",
        "Z_stop = (np.minimum(Z_stop,Zs)).tolist()\n",
        "\n",
        "r = [slice(start,stop) for start,stop in zip(R_start,R_stop)]\n",
        "z = [slice(start,stop) for start,stop in zip(Z_start,Z_stop)]\n",
        "R[r] = Z[z]\n",
        "print(Z)\n",
        "print(R)"
      ]
    },
    {
      "cell_type": "markdown",
      "metadata": {
        "id": "pAFqx75prMTt"
      },
      "source": [
        "#### 81. Consider an array Z = \\[1,2,3,4,5,6,7,8,9,10,11,12,13,14\\], how to generate an array R = \\[\\[1,2,3,4\\], \\[2,3,4,5\\], \\[3,4,5,6\\], ..., \\[11,12,13,14\\]\\]? (★★★) \n",
        "(**hint**: stride\\_tricks.as\\_strided)"
      ]
    },
    {
      "cell_type": "code",
      "execution_count": null,
      "metadata": {
        "id": "BB_57ChOrMTt",
        "colab": {
          "base_uri": "https://localhost:8080/"
        },
        "outputId": "eebe6643-3acc-4214-ca46-d87ec4c47eff"
      },
      "outputs": [
        {
          "output_type": "stream",
          "name": "stdout",
          "text": [
            "[[ 1  2  3  4]\n",
            " [ 2  3  4  5]\n",
            " [ 3  4  5  6]\n",
            " [ 4  5  6  7]\n",
            " [ 5  6  7  8]\n",
            " [ 6  7  8  9]\n",
            " [ 7  8  9 10]\n",
            " [ 8  9 10 11]\n",
            " [ 9 10 11 12]\n",
            " [10 11 12 13]\n",
            " [11 12 13 14]]\n"
          ]
        }
      ],
      "source": [
        "Z = np.arange(1,15, dtype = np.uint32)\n",
        "print(sliding_window_view(Z, window_shape =4))"
      ]
    },
    {
      "cell_type": "markdown",
      "metadata": {
        "id": "JgzHhHQErMTt"
      },
      "source": [
        "#### 82. Compute a matrix rank (★★★) \n",
        "(**hint**: np.linalg.svd) (suggestion: np.linalg.svd)"
      ]
    },
    {
      "cell_type": "code",
      "execution_count": null,
      "metadata": {
        "id": "Ln8Uaa_KrMTu",
        "colab": {
          "base_uri": "https://localhost:8080/"
        },
        "outputId": "3717b74b-0da2-4ea8-a223-7f001da073f8"
      },
      "outputs": [
        {
          "output_type": "stream",
          "name": "stdout",
          "text": [
            "10\n"
          ]
        }
      ],
      "source": [
        "rank = np.linalg.matrix_rank(Z)\n",
        "print(rank)"
      ]
    },
    {
      "cell_type": "markdown",
      "metadata": {
        "id": "pkx9yAh7rMTu"
      },
      "source": [
        "#### 83. How to find the most frequent value in an array? \n",
        "(**hint**: np.bincount, argmax)"
      ]
    },
    {
      "cell_type": "code",
      "execution_count": null,
      "metadata": {
        "id": "xoYVURF1rMTu",
        "colab": {
          "base_uri": "https://localhost:8080/"
        },
        "outputId": "e6808f12-cdbb-4251-a94a-1364c84dcd7b"
      },
      "outputs": [
        {
          "output_type": "stream",
          "name": "stdout",
          "text": [
            "1\n"
          ]
        }
      ],
      "source": [
        "Z = np.random.randint(0,10,50)\n",
        "print(np.bincount(Z).argmax())"
      ]
    },
    {
      "cell_type": "markdown",
      "metadata": {
        "id": "hxnDpVCfrMTu"
      },
      "source": [
        "#### 84. Extract all the contiguous 3x3 blocks from a random 10x10 matrix (★★★) \n",
        "(**hint**: stride\\_tricks.as\\_strided)"
      ]
    },
    {
      "cell_type": "code",
      "execution_count": null,
      "metadata": {
        "id": "nTcfOe90rMTu",
        "colab": {
          "base_uri": "https://localhost:8080/"
        },
        "outputId": "5ba67bab-b541-480c-8104-2c074266a19c"
      },
      "outputs": [
        {
          "output_type": "stream",
          "name": "stdout",
          "text": [
            "[[[[2 0 1]\n",
            "   [0 2 3]\n",
            "   [0 2 1]]\n",
            "\n",
            "  [[0 1 4]\n",
            "   [2 3 4]\n",
            "   [2 1 0]]\n",
            "\n",
            "  [[1 4 4]\n",
            "   [3 4 1]\n",
            "   [1 0 1]]\n",
            "\n",
            "  [[4 4 3]\n",
            "   [4 1 3]\n",
            "   [0 1 3]]\n",
            "\n",
            "  [[4 3 2]\n",
            "   [1 3 3]\n",
            "   [1 3 4]]\n",
            "\n",
            "  [[3 2 1]\n",
            "   [3 3 0]\n",
            "   [3 4 3]]\n",
            "\n",
            "  [[2 1 3]\n",
            "   [3 0 2]\n",
            "   [4 3 0]]\n",
            "\n",
            "  [[1 3 1]\n",
            "   [0 2 2]\n",
            "   [3 0 0]]]\n",
            "\n",
            "\n",
            " [[[0 2 3]\n",
            "   [0 2 1]\n",
            "   [2 3 4]]\n",
            "\n",
            "  [[2 3 4]\n",
            "   [2 1 0]\n",
            "   [3 4 4]]\n",
            "\n",
            "  [[3 4 1]\n",
            "   [1 0 1]\n",
            "   [4 4 1]]\n",
            "\n",
            "  [[4 1 3]\n",
            "   [0 1 3]\n",
            "   [4 1 2]]\n",
            "\n",
            "  [[1 3 3]\n",
            "   [1 3 4]\n",
            "   [1 2 2]]\n",
            "\n",
            "  [[3 3 0]\n",
            "   [3 4 3]\n",
            "   [2 2 1]]\n",
            "\n",
            "  [[3 0 2]\n",
            "   [4 3 0]\n",
            "   [2 1 0]]\n",
            "\n",
            "  [[0 2 2]\n",
            "   [3 0 0]\n",
            "   [1 0 4]]]\n",
            "\n",
            "\n",
            " [[[0 2 1]\n",
            "   [2 3 4]\n",
            "   [1 1 4]]\n",
            "\n",
            "  [[2 1 0]\n",
            "   [3 4 4]\n",
            "   [1 4 0]]\n",
            "\n",
            "  [[1 0 1]\n",
            "   [4 4 1]\n",
            "   [4 0 3]]\n",
            "\n",
            "  [[0 1 3]\n",
            "   [4 1 2]\n",
            "   [0 3 3]]\n",
            "\n",
            "  [[1 3 4]\n",
            "   [1 2 2]\n",
            "   [3 3 2]]\n",
            "\n",
            "  [[3 4 3]\n",
            "   [2 2 1]\n",
            "   [3 2 1]]\n",
            "\n",
            "  [[4 3 0]\n",
            "   [2 1 0]\n",
            "   [2 1 3]]\n",
            "\n",
            "  [[3 0 0]\n",
            "   [1 0 4]\n",
            "   [1 3 2]]]\n",
            "\n",
            "\n",
            " [[[2 3 4]\n",
            "   [1 1 4]\n",
            "   [3 4 4]]\n",
            "\n",
            "  [[3 4 4]\n",
            "   [1 4 0]\n",
            "   [4 4 1]]\n",
            "\n",
            "  [[4 4 1]\n",
            "   [4 0 3]\n",
            "   [4 1 0]]\n",
            "\n",
            "  [[4 1 2]\n",
            "   [0 3 3]\n",
            "   [1 0 3]]\n",
            "\n",
            "  [[1 2 2]\n",
            "   [3 3 2]\n",
            "   [0 3 3]]\n",
            "\n",
            "  [[2 2 1]\n",
            "   [3 2 1]\n",
            "   [3 3 0]]\n",
            "\n",
            "  [[2 1 0]\n",
            "   [2 1 3]\n",
            "   [3 0 1]]\n",
            "\n",
            "  [[1 0 4]\n",
            "   [1 3 2]\n",
            "   [0 1 0]]]\n",
            "\n",
            "\n",
            " [[[1 1 4]\n",
            "   [3 4 4]\n",
            "   [1 2 0]]\n",
            "\n",
            "  [[1 4 0]\n",
            "   [4 4 1]\n",
            "   [2 0 4]]\n",
            "\n",
            "  [[4 0 3]\n",
            "   [4 1 0]\n",
            "   [0 4 3]]\n",
            "\n",
            "  [[0 3 3]\n",
            "   [1 0 3]\n",
            "   [4 3 0]]\n",
            "\n",
            "  [[3 3 2]\n",
            "   [0 3 3]\n",
            "   [3 0 1]]\n",
            "\n",
            "  [[3 2 1]\n",
            "   [3 3 0]\n",
            "   [0 1 0]]\n",
            "\n",
            "  [[2 1 3]\n",
            "   [3 0 1]\n",
            "   [1 0 1]]\n",
            "\n",
            "  [[1 3 2]\n",
            "   [0 1 0]\n",
            "   [0 1 2]]]\n",
            "\n",
            "\n",
            " [[[3 4 4]\n",
            "   [1 2 0]\n",
            "   [4 4 3]]\n",
            "\n",
            "  [[4 4 1]\n",
            "   [2 0 4]\n",
            "   [4 3 4]]\n",
            "\n",
            "  [[4 1 0]\n",
            "   [0 4 3]\n",
            "   [3 4 0]]\n",
            "\n",
            "  [[1 0 3]\n",
            "   [4 3 0]\n",
            "   [4 0 4]]\n",
            "\n",
            "  [[0 3 3]\n",
            "   [3 0 1]\n",
            "   [0 4 4]]\n",
            "\n",
            "  [[3 3 0]\n",
            "   [0 1 0]\n",
            "   [4 4 3]]\n",
            "\n",
            "  [[3 0 1]\n",
            "   [1 0 1]\n",
            "   [4 3 4]]\n",
            "\n",
            "  [[0 1 0]\n",
            "   [0 1 2]\n",
            "   [3 4 1]]]\n",
            "\n",
            "\n",
            " [[[1 2 0]\n",
            "   [4 4 3]\n",
            "   [0 4 1]]\n",
            "\n",
            "  [[2 0 4]\n",
            "   [4 3 4]\n",
            "   [4 1 0]]\n",
            "\n",
            "  [[0 4 3]\n",
            "   [3 4 0]\n",
            "   [1 0 0]]\n",
            "\n",
            "  [[4 3 0]\n",
            "   [4 0 4]\n",
            "   [0 0 4]]\n",
            "\n",
            "  [[3 0 1]\n",
            "   [0 4 4]\n",
            "   [0 4 1]]\n",
            "\n",
            "  [[0 1 0]\n",
            "   [4 4 3]\n",
            "   [4 1 4]]\n",
            "\n",
            "  [[1 0 1]\n",
            "   [4 3 4]\n",
            "   [1 4 4]]\n",
            "\n",
            "  [[0 1 2]\n",
            "   [3 4 1]\n",
            "   [4 4 0]]]\n",
            "\n",
            "\n",
            " [[[4 4 3]\n",
            "   [0 4 1]\n",
            "   [0 3 2]]\n",
            "\n",
            "  [[4 3 4]\n",
            "   [4 1 0]\n",
            "   [3 2 4]]\n",
            "\n",
            "  [[3 4 0]\n",
            "   [1 0 0]\n",
            "   [2 4 3]]\n",
            "\n",
            "  [[4 0 4]\n",
            "   [0 0 4]\n",
            "   [4 3 4]]\n",
            "\n",
            "  [[0 4 4]\n",
            "   [0 4 1]\n",
            "   [3 4 4]]\n",
            "\n",
            "  [[4 4 3]\n",
            "   [4 1 4]\n",
            "   [4 4 3]]\n",
            "\n",
            "  [[4 3 4]\n",
            "   [1 4 4]\n",
            "   [4 3 3]]\n",
            "\n",
            "  [[3 4 1]\n",
            "   [4 4 0]\n",
            "   [3 3 3]]]]\n"
          ]
        }
      ],
      "source": [
        "Z = np.random.randint(0,5,(10,10))\n",
        "print(sliding_window_view(Z, window_shape = (3,3)))"
      ]
    },
    {
      "cell_type": "markdown",
      "metadata": {
        "id": "MUnUud7VrMTu"
      },
      "source": [
        "#### 85. Create a 2D array subclass such that Z\\[i,j\\] == Z\\[j,i\\] (★★★) \n",
        "(**hint**: class method)"
      ]
    },
    {
      "cell_type": "code",
      "execution_count": null,
      "metadata": {
        "id": "_I7JKYCwrMTu",
        "colab": {
          "base_uri": "https://localhost:8080/"
        },
        "outputId": "faad45d6-e5ce-4db3-de8e-856ea60704fa"
      },
      "outputs": [
        {
          "output_type": "stream",
          "name": "stdout",
          "text": [
            "[[ 2  9  4 12  8]\n",
            " [ 9  2  4 12  6]\n",
            " [ 4  4  6 42  8]\n",
            " [12 12 42  8  9]\n",
            " [ 8  6  8  9  8]]\n"
          ]
        }
      ],
      "source": [
        "import numpy as np\n",
        "class Symetric(np.ndarray):\n",
        "  def __setitem__(self , index , value):\n",
        "    i,j = index\n",
        "    super(Symetric, self).__setitem__((i,j),value)\n",
        "    super(Symetric, self).__setitem__((j,i),value) \n",
        "def symetric (Z):\n",
        "  return np.asarray(Z +Z.T -np.diag(Z.diagonal())).view(Symetric)\n",
        "S = symetric(np.random.randint(0,10,(5,5)))\n",
        "S[2,3] = 42\n",
        "print(S) "
      ]
    },
    {
      "cell_type": "markdown",
      "metadata": {
        "id": "9Nwo-UONrMTu"
      },
      "source": [
        "#### 86. Consider a set of p matrices wich shape (n,n) and a set of p vectors with shape (n,1). How to compute the sum of of the p matrix products at once? (result has shape (n,1)) (★★★) \n",
        "(**hint**: np.tensordot)"
      ]
    },
    {
      "cell_type": "code",
      "execution_count": null,
      "metadata": {
        "id": "q0rO-AgArMTu",
        "colab": {
          "base_uri": "https://localhost:8080/"
        },
        "outputId": "083aeed0-7cf6-4427-fab0-8485288ca2fe"
      },
      "outputs": [
        {
          "output_type": "stream",
          "name": "stdout",
          "text": [
            "[[200.]\n",
            " [200.]\n",
            " [200.]\n",
            " [200.]\n",
            " [200.]\n",
            " [200.]\n",
            " [200.]\n",
            " [200.]\n",
            " [200.]\n",
            " [200.]\n",
            " [200.]\n",
            " [200.]\n",
            " [200.]\n",
            " [200.]\n",
            " [200.]\n",
            " [200.]\n",
            " [200.]\n",
            " [200.]\n",
            " [200.]\n",
            " [200.]]\n"
          ]
        }
      ],
      "source": [
        "p ,n = 10,20\n",
        "M = np.ones((p,n,n))\n",
        "V = np.ones((p,n,1))\n",
        "S = np.tensordot(M,V,axes = [[0,2],[0,1]])\n",
        "print(S)"
      ]
    },
    {
      "cell_type": "markdown",
      "metadata": {
        "id": "iScBVozqrMTu"
      },
      "source": [
        "#### 87. Consider a 16x16 array, how to get the block-sum (block size is 4x4)? (★★★) \n",
        "(**hint**: np.add.reduceat)"
      ]
    },
    {
      "cell_type": "code",
      "execution_count": null,
      "metadata": {
        "id": "LT9NPt1wrMTu",
        "colab": {
          "base_uri": "https://localhost:8080/"
        },
        "outputId": "7a1bebfe-12be-4385-fa66-ebda821d386b"
      },
      "outputs": [
        {
          "output_type": "stream",
          "name": "stdout",
          "text": [
            "[[16. 16. 16. 16.]\n",
            " [16. 16. 16. 16.]\n",
            " [16. 16. 16. 16.]\n",
            " [16. 16. 16. 16.]]\n"
          ]
        }
      ],
      "source": [
        "Z = np.ones((16,16))\n",
        "k = 4\n",
        "S = np.add.reduceat(np.add.reduceat(Z,np.arange(0,Z.shape[0],k),axis =0),np.arange(0, Z.shape[1],k), axis =1)\n",
        "print(S)"
      ]
    },
    {
      "cell_type": "markdown",
      "metadata": {
        "id": "1SK560IlrMTu"
      },
      "source": [
        "#### 88. How to implement the Game of Life using numpy arrays? (★★★)"
      ]
    },
    {
      "cell_type": "code",
      "execution_count": null,
      "metadata": {
        "id": "wQjG1FpGrMTv",
        "colab": {
          "base_uri": "https://localhost:8080/"
        },
        "outputId": "f5e69c92-ed7a-413e-b068-2902a3312d1b"
      },
      "outputs": [
        {
          "output_type": "stream",
          "name": "stdout",
          "text": [
            "[[0 0 0 ... 0 0 0]\n",
            " [0 0 0 ... 0 0 0]\n",
            " [0 0 0 ... 0 0 0]\n",
            " ...\n",
            " [0 0 0 ... 0 0 0]\n",
            " [0 0 0 ... 0 0 0]\n",
            " [0 0 0 ... 0 0 0]]\n"
          ]
        }
      ],
      "source": [
        "def iterate(Z):\n",
        "    # Count neighbours\n",
        "    N = (Z[0:-2,0:-2] + Z[0:-2,1:-1] + Z[0:-2,2:] +\n",
        "         Z[1:-1,0:-2]                + Z[1:-1,2:] +\n",
        "         Z[2:  ,0:-2] + Z[2:  ,1:-1] + Z[2:  ,2:])\n",
        "\n",
        "    # Apply rules\n",
        "    birth = (N==3) & (Z[1:-1,1:-1]==0)\n",
        "    survive = ((N==2) | (N==3)) & (Z[1:-1,1:-1]==1)\n",
        "    Z[...] = 0\n",
        "    Z[1:-1,1:-1][birth | survive] = 1\n",
        "    return Z\n",
        "\n",
        "Z = np.random.randint(0,2,(50,50))\n",
        "for i in range(100): Z = iterate(Z)\n",
        "print(Z)"
      ]
    },
    {
      "cell_type": "markdown",
      "metadata": {
        "id": "3L_EZpytrMTv"
      },
      "source": [
        "#### 89. How to get the n largest values of an array (★★★) \n",
        "(**hint**: np.argsort | np.argpartition)"
      ]
    },
    {
      "cell_type": "code",
      "execution_count": null,
      "metadata": {
        "id": "5TP_7xLmrMTv",
        "colab": {
          "base_uri": "https://localhost:8080/"
        },
        "outputId": "579eb40d-f94a-4606-bd42-6e0a12f1bc12"
      },
      "outputs": [
        {
          "output_type": "stream",
          "name": "stdout",
          "text": [
            "[9995 9996 9997 9998 9999]\n",
            "[9998 9997 9999 9996 9995]\n"
          ]
        }
      ],
      "source": [
        "Z  = np.arange(10000)\n",
        "np.random.shuffle(Z)\n",
        "n =5\n",
        "print(Z[np.argsort(Z)[-n:]])\n",
        "print(Z[np.argpartition(-Z,n)[:n]])"
      ]
    },
    {
      "cell_type": "markdown",
      "metadata": {
        "id": "A3gpvPiYrMTv"
      },
      "source": [
        "#### 90. Given an arbitrary number of vectors, build the cartesian product (every combinations of every item) (★★★) \n",
        "(**hint**: np.indices)"
      ]
    },
    {
      "cell_type": "code",
      "execution_count": null,
      "metadata": {
        "scrolled": true,
        "id": "eod96t16rMTv",
        "colab": {
          "base_uri": "https://localhost:8080/"
        },
        "outputId": "dcef3379-749d-4b73-85cf-39ec4cfb39d4"
      },
      "outputs": [
        {
          "output_type": "stream",
          "name": "stdout",
          "text": [
            "[[1 4 6]\n",
            " [1 4 7]\n",
            " [1 5 6]\n",
            " [1 5 7]\n",
            " [2 4 6]\n",
            " [2 4 7]\n",
            " [2 5 6]\n",
            " [2 5 7]\n",
            " [3 4 6]\n",
            " [3 4 7]\n",
            " [3 5 6]\n",
            " [3 5 7]]\n"
          ]
        }
      ],
      "source": [
        "def cartesian(arrays):\n",
        "    arrays = [np.asarray(a) for a in arrays]\n",
        "    shape = (len(x) for x in arrays)\n",
        "\n",
        "    ix = np.indices(shape, dtype=int)\n",
        "    ix = ix.reshape(len(arrays), -1).T\n",
        "\n",
        "    for n, arr in enumerate(arrays):\n",
        "        ix[:, n] = arrays[n][ix[:, n]]\n",
        "\n",
        "    return ix\n",
        "\n",
        "print (cartesian(([1, 2, 3], [4, 5], [6, 7])))"
      ]
    },
    {
      "cell_type": "markdown",
      "metadata": {
        "id": "IRcLaKyyrMTv"
      },
      "source": [
        "#### 91. How to create a record array from a regular array? (★★★) \n",
        "(**hint**: np.core.records.fromarrays)"
      ]
    },
    {
      "cell_type": "code",
      "execution_count": null,
      "metadata": {
        "id": "3E2uPdIYrMTv",
        "colab": {
          "base_uri": "https://localhost:8080/"
        },
        "outputId": "c336f06d-f495-4196-876d-47618abb6f9a"
      },
      "outputs": [
        {
          "output_type": "stream",
          "name": "stdout",
          "text": [
            "[(b'hello', 2.5, 3) (b'World', 3.6, 2)]\n"
          ]
        }
      ],
      "source": [
        "Z = np.array([(\"hello\",2.5,3),\n",
        "              (\"World\",3.6,2)])\n",
        "R = np.core.records.fromarrays(Z.T,names = 'col1 ,col2,col3',formats = 'S8 ,f8 ,i8')\n",
        "print(R)"
      ]
    },
    {
      "cell_type": "markdown",
      "metadata": {
        "id": "nEhI3e1MrMTv"
      },
      "source": [
        "#### 92. Consider a large vector Z, compute Z to the power of 3 using 3 different methods (★★★) \n",
        "(**hint**: np.power, \\*, np.einsum)"
      ]
    },
    {
      "cell_type": "code",
      "execution_count": null,
      "metadata": {
        "id": "GLvX6bMRrMTv",
        "colab": {
          "base_uri": "https://localhost:8080/"
        },
        "outputId": "f0480997-ada5-4229-f538-dc94426b22c7"
      },
      "outputs": [
        {
          "output_type": "stream",
          "name": "stdout",
          "text": [
            "1.34 s ± 188 ms per loop (mean ± std. dev. of 7 runs, 1 loop each)\n",
            "212 ms ± 13.4 ms per loop (mean ± std. dev. of 7 runs, 1 loop each)\n",
            "184 ms ± 6.67 ms per loop (mean ± std. dev. of 7 runs, 1 loop each)\n"
          ]
        }
      ],
      "source": [
        "x = np.random.rand(int(5e7))\n",
        "\n",
        "%timeit np.power(x,3)\n",
        "%timeit x*x*x\n",
        "%timeit np.einsum('i,i,i->i',x,x,x)"
      ]
    },
    {
      "cell_type": "markdown",
      "metadata": {
        "id": "XTeIWPWdrMTv"
      },
      "source": [
        "#### 93. Consider two arrays A and B of shape (8,3) and (2,2). How to find rows of A that contain elements of each row of B regardless of the order of the elements in B? (★★★) \n",
        "(**hint**: np.where)"
      ]
    },
    {
      "cell_type": "code",
      "execution_count": null,
      "metadata": {
        "id": "aRanzNaKrMTv",
        "colab": {
          "base_uri": "https://localhost:8080/"
        },
        "outputId": "997928d9-0691-4f6b-fc93-65aefbbff185"
      },
      "outputs": [
        {
          "output_type": "stream",
          "name": "stdout",
          "text": [
            "[1 2 4 5 6]\n"
          ]
        }
      ],
      "source": [
        "A = np.random.randint(0,5,(8,3))\n",
        "B = np.random.randint(0,5,(2,2))\n",
        "\n",
        "C = (A[..., np.newaxis, np.newaxis] == B)\n",
        "rows = np.where(C.any((3,1)).all(1))[0]\n",
        "print(rows)"
      ]
    },
    {
      "cell_type": "markdown",
      "metadata": {
        "id": "gw8LfaZWrMTv"
      },
      "source": [
        "#### 94. Considering a 10x3 matrix, extract rows with unequal values (e.g. \\[2,2,3\\]) (★★★)"
      ]
    },
    {
      "cell_type": "code",
      "execution_count": null,
      "metadata": {
        "id": "31oM31r9rMTv",
        "colab": {
          "base_uri": "https://localhost:8080/"
        },
        "outputId": "ae803583-3c1f-43ab-beb1-664ec1b75f4e"
      },
      "outputs": [
        {
          "output_type": "stream",
          "name": "stdout",
          "text": [
            "[[4 0 1]\n",
            " [1 0 0]\n",
            " [4 2 1]\n",
            " [0 1 0]\n",
            " [4 4 1]\n",
            " [1 4 4]\n",
            " [2 1 0]\n",
            " [1 4 0]\n",
            " [1 4 1]\n",
            " [4 0 1]]\n",
            "[[4 0 1]\n",
            " [1 0 0]\n",
            " [4 2 1]\n",
            " [0 1 0]\n",
            " [4 4 1]\n",
            " [1 4 4]\n",
            " [2 1 0]\n",
            " [1 4 0]\n",
            " [1 4 1]\n",
            " [4 0 1]]\n",
            "[[4 0 1]\n",
            " [1 0 0]\n",
            " [4 2 1]\n",
            " [0 1 0]\n",
            " [4 4 1]\n",
            " [1 4 4]\n",
            " [2 1 0]\n",
            " [1 4 0]\n",
            " [1 4 1]\n",
            " [4 0 1]]\n"
          ]
        }
      ],
      "source": [
        "Z = np.random.randint(0,5,(10,3))\n",
        "print(Z)\n",
        "E = np.all(Z[:,1:] == Z[:,:-1], axis=1)\n",
        "U = Z[~E]\n",
        "print(U)\n",
        "U = Z[Z.max(axis=1) != Z.min(axis=1),:]\n",
        "print(U)"
      ]
    },
    {
      "cell_type": "markdown",
      "metadata": {
        "id": "Y6GUmKNWrMTv"
      },
      "source": [
        "#### 95. Convert a vector of ints into a matrix binary representation (★★★) \n",
        "(**hint**: np.unpackbits)"
      ]
    },
    {
      "cell_type": "code",
      "execution_count": null,
      "metadata": {
        "id": "lDS7iSY1rMTv",
        "colab": {
          "base_uri": "https://localhost:8080/"
        },
        "outputId": "2d6b7f1c-d947-4530-8cb7-d244e4dc58a2"
      },
      "outputs": [
        {
          "output_type": "stream",
          "name": "stdout",
          "text": [
            "[[0 0 0 0 0 0 0 0]\n",
            " [0 0 0 0 0 0 0 1]\n",
            " [0 0 0 0 0 0 1 0]\n",
            " [0 0 0 0 0 0 1 1]\n",
            " [0 0 0 0 1 1 1 1]\n",
            " [0 0 0 1 0 0 0 0]\n",
            " [0 0 1 0 0 0 0 0]\n",
            " [0 1 0 0 0 0 0 0]\n",
            " [1 0 0 0 0 0 0 0]]\n"
          ]
        }
      ],
      "source": [
        "I = np.array([0,1,2,3,15,16,32,64,128])\n",
        "B = ((I.reshape(-1,1)&(2**np.arange(8)))!= 0).astype(int)\n",
        "print(B[:,::-1])"
      ]
    },
    {
      "cell_type": "markdown",
      "metadata": {
        "id": "QmLjbAy4rMTv"
      },
      "source": [
        "#### 96. Given a two dimensional array, how to extract unique rows? (★★★) \n",
        "(**hint**: np.ascontiguousarray)"
      ]
    },
    {
      "cell_type": "code",
      "execution_count": null,
      "metadata": {
        "id": "9JTbVzG1rMTv",
        "colab": {
          "base_uri": "https://localhost:8080/"
        },
        "outputId": "8c9bc2cb-9918-4386-d36c-b7c8aa0bdfe7"
      },
      "outputs": [
        {
          "output_type": "stream",
          "name": "stdout",
          "text": [
            "[[0 0 1]\n",
            " [0 1 0]\n",
            " [0 1 1]\n",
            " [1 0 0]\n",
            " [1 0 1]]\n"
          ]
        }
      ],
      "source": [
        "Z = np.random.randint(0,2,(6,3))\n",
        "T = np.ascontiguousarray(Z).view(np.dtype((np.void, Z.dtype.itemsize * Z.shape[1])))\n",
        "_, idx = np.unique(T, return_index=True)\n",
        "uZ = Z[idx]\n",
        "print(uZ)"
      ]
    },
    {
      "cell_type": "markdown",
      "metadata": {
        "id": "ofnzDlubrMTv"
      },
      "source": [
        "#### 97. Considering 2 vectors A & B, write the einsum equivalent of inner, outer, sum, and mul function (★★★) \n",
        "(**hint**: np.einsum)"
      ]
    },
    {
      "cell_type": "code",
      "execution_count": null,
      "metadata": {
        "id": "ou_OlYkxrMTv",
        "colab": {
          "base_uri": "https://localhost:8080/"
        },
        "outputId": "766de022-4856-47b8-b0ef-6ce6f4c6e5b3"
      },
      "outputs": [
        {
          "output_type": "execute_result",
          "data": {
            "text/plain": [
              "array([[0.1799827 , 0.14712822, 0.31686999, 0.09815438, 0.16363449,\n",
              "        0.2137791 , 0.22522732, 0.2592529 , 0.29004261, 0.24983062],\n",
              "       [0.5203208 , 0.42534019, 0.91605497, 0.2837593 , 0.47305895,\n",
              "        0.61802447, 0.65112069, 0.74948691, 0.83849839, 0.72224758],\n",
              "       [0.47552248, 0.38871946, 0.83718493, 0.25932833, 0.43232976,\n",
              "        0.56481411, 0.59506082, 0.68495796, 0.76630578, 0.66006387],\n",
              "       [0.36988155, 0.30236248, 0.65119794, 0.20171658, 0.33628442,\n",
              "        0.43933637, 0.46286355, 0.53278935, 0.59606514, 0.51342567],\n",
              "       [0.12341707, 0.10088822, 0.21728292, 0.06730606, 0.11220684,\n",
              "        0.14659182, 0.15444205, 0.17777395, 0.19888695, 0.17131294],\n",
              "       [0.11165963, 0.09127702, 0.19658327, 0.06089409, 0.10151735,\n",
              "        0.13262661, 0.13972899, 0.16083815, 0.17993981, 0.15499265],\n",
              "       [0.30775477, 0.25157648, 0.54182014, 0.16783546, 0.27980075,\n",
              "        0.36554368, 0.38511914, 0.44329993, 0.49594766, 0.42718865],\n",
              "       [0.28935065, 0.23653188, 0.50941861, 0.15779868, 0.26306831,\n",
              "        0.34368371, 0.36208853, 0.41679003, 0.46628936, 0.40164223],\n",
              "       [0.09484207, 0.07752937, 0.16697496, 0.05172255, 0.08622736,\n",
              "        0.11265112, 0.11868377, 0.13661358, 0.15283825, 0.1316485 ],\n",
              "       [0.05097892, 0.0416731 , 0.08975134, 0.02780158, 0.04634839,\n",
              "        0.06055153, 0.06379416, 0.07343168, 0.08215267, 0.07076288]])"
            ]
          },
          "metadata": {},
          "execution_count": 24
        }
      ],
      "source": [
        "A = np.random.uniform(0,1,10)\n",
        "B = np.random.uniform(0,1,10)\n",
        "\n",
        "np.einsum('i->', A)       # np.sum(A)\n",
        "np.einsum('i,i->i', A, B) # A * B\n",
        "np.einsum('i,i', A, B)    # np.inner(A, B)\n",
        "np.einsum('i,j->ij', A, B)    # np.outer(A, B)"
      ]
    },
    {
      "cell_type": "markdown",
      "metadata": {
        "id": "GuYfVzpurMTv"
      },
      "source": [
        "#### 98. Considering a path described by two vectors (X,Y), how to sample it using equidistant samples (★★★)? \n",
        "(**hint**: np.cumsum, np.interp)"
      ]
    },
    {
      "cell_type": "code",
      "execution_count": null,
      "metadata": {
        "collapsed": true,
        "id": "jeMaoZ3lrMTw"
      },
      "outputs": [],
      "source": [
        "phi = np.arange(0, 10*np.pi, 0.1)\n",
        "a = 1\n",
        "x = a*phi*np.cos(phi)\n",
        "y = a*phi*np.sin(phi)\n",
        "\n",
        "dr = (np.diff(x)**2 + np.diff(y)**2)**.5 \n",
        "r = np.zeros_like(x)\n",
        "r[1:] = np.cumsum(dr)                \n",
        "r_int = np.linspace(0, r.max(), 200)\n",
        "x_int = np.interp(r_int, r, x)       \n",
        "y_int = np.interp(r_int, r, y)"
      ]
    },
    {
      "cell_type": "markdown",
      "metadata": {
        "id": "a9JGs-g7rMTw"
      },
      "source": [
        "#### 99. Given an integer n and a 2D array X, select from X the rows which can be interpreted as draws from a multinomial distribution with n degrees, i.e., the rows which only contain integers and which sum to n. (★★★) \n",
        "(**hint**: np.logical\\_and.reduce, np.mod)"
      ]
    },
    {
      "cell_type": "code",
      "execution_count": null,
      "metadata": {
        "id": "JRwoYcY9rMTw",
        "colab": {
          "base_uri": "https://localhost:8080/"
        },
        "outputId": "0693b2bc-60d3-4db5-8703-ee9f632f8cb9"
      },
      "outputs": [
        {
          "output_type": "stream",
          "name": "stdout",
          "text": [
            "[[2. 0. 1. 1.]]\n"
          ]
        }
      ],
      "source": [
        "X = np.asarray([[1.0, 0.0, 3.0, 8.0],\n",
        "                [2.0, 0.0, 1.0, 1.0],\n",
        "                [1.5, 2.5, 1.0, 0.0]])\n",
        "n = 4\n",
        "M = np.logical_and.reduce(np.mod(X, 1) == 0, axis=-1)\n",
        "M &= (X.sum(axis=-1) == n)\n",
        "print(X[M])"
      ]
    },
    {
      "cell_type": "markdown",
      "metadata": {
        "id": "Rs3UZRGarMTw"
      },
      "source": [
        "#### 100. Compute bootstrapped 95% confidence intervals for the mean of a 1D array X (i.e., resample the elements of an array with replacement N times, compute the mean of each sample, and then compute percentiles over the means). (★★★) \n",
        "(**hint**: np.percentile)"
      ]
    },
    {
      "cell_type": "code",
      "execution_count": null,
      "metadata": {
        "id": "XN2RgL1arMTw",
        "colab": {
          "base_uri": "https://localhost:8080/"
        },
        "outputId": "b82a2223-f17b-4238-d7b2-3cca0f8176d2"
      },
      "outputs": [
        {
          "output_type": "stream",
          "name": "stdout",
          "text": [
            "[-0.1615977  0.1970367]\n"
          ]
        }
      ],
      "source": [
        "X = np.random.randn(100) # random 1D array\n",
        "N = 1000 # number of bootstrap samples\n",
        "idx = np.random.randint(0, X.size, (N, X.size))\n",
        "means = X[idx].mean(axis=1)\n",
        "confint = np.percentile(means, [2.5, 97.5])\n",
        "print(confint)"
      ]
    }
  ],
  "metadata": {
    "kernelspec": {
      "display_name": "Python 3",
      "language": "python",
      "name": "python3"
    },
    "language_info": {
      "codemirror_mode": {
        "name": "ipython",
        "version": 3
      },
      "file_extension": ".py",
      "mimetype": "text/x-python",
      "name": "python",
      "nbconvert_exporter": "python",
      "pygments_lexer": "ipython3",
      "version": "3.8.3"
    },
    "colab": {
      "provenance": [],
      "include_colab_link": true
    }
  },
  "nbformat": 4,
  "nbformat_minor": 0
}