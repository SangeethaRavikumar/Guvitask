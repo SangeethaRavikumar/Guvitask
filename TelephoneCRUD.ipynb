{
 "cells": [
  {
   "cell_type": "code",
   "execution_count": 1,
   "id": "9fbdcd55",
   "metadata": {},
   "outputs": [
    {
     "name": "stdout",
     "output_type": "stream",
     "text": [
      "Requirement already satisfied: pymongo in c:\\users\\91914\\appdata\\local\\programs\\python\\python310\\lib\\site-packages (4.3.3)\n",
      "Requirement already satisfied: dnspython<3.0.0,>=1.16.0 in c:\\users\\91914\\appdata\\local\\programs\\python\\python310\\lib\\site-packages (from pymongo) (2.2.1)\n"
     ]
    }
   ],
   "source": [
    "!pip install pymongo"
   ]
  },
  {
   "cell_type": "code",
   "execution_count": 2,
   "id": "9b01c327",
   "metadata": {},
   "outputs": [],
   "source": [
    "import pymongo\n"
   ]
  },
  {
   "cell_type": "code",
   "execution_count": 3,
   "id": "69e0c8cc",
   "metadata": {},
   "outputs": [],
   "source": [
    "client = pymongo.MongoClient(\"mongodb://127.0.0.1:27017\")"
   ]
  },
  {
   "cell_type": "code",
   "execution_count": 4,
   "id": "4a7b1962",
   "metadata": {},
   "outputs": [],
   "source": [
    "#creating a database\n",
    "newdb = client[\"Telephone_task\"]\n"
   ]
  },
  {
   "cell_type": "code",
   "execution_count": 5,
   "id": "7e585347",
   "metadata": {},
   "outputs": [],
   "source": [
    "# creating a newcollection\n",
    "newcol = newdb[\"Details\"]\n"
   ]
  },
  {
   "cell_type": "code",
   "execution_count": 6,
   "id": "eda9096f",
   "metadata": {},
   "outputs": [
    {
     "data": {
      "text/plain": [
       "<pymongo.results.InsertOneResult at 0x1e4bc681510>"
      ]
     },
     "execution_count": 6,
     "metadata": {},
     "output_type": "execute_result"
    }
   ],
   "source": [
    "# Inserting  ONE documents into the collection\n",
    "detail1 = {\n",
    "            \"Name\":\"Sangeetha\",\n",
    "            \"Phone_no\":9456801253,\n",
    "            \"Place\" : \"Chennai\",\n",
    "            \"Designation\":\"Advocate\"}\n",
    "newcol.insert_one(detail1)"
   ]
  },
  {
   "cell_type": "code",
   "execution_count": 7,
   "id": "11993033",
   "metadata": {},
   "outputs": [
    {
     "name": "stdout",
     "output_type": "stream",
     "text": [
      "{'_id': ObjectId('63b6c65a3c8e7f61d0000912'), 'Name': 'Sangeetha', 'Phone_no': 9456801253, 'Place': 'Chennai', 'Designation': 'Advocate'}\n"
     ]
    }
   ],
   "source": [
    "for i in newcol.find():\n",
    "    print(i)"
   ]
  },
  {
   "cell_type": "code",
   "execution_count": 10,
   "id": "82cb180d",
   "metadata": {},
   "outputs": [
    {
     "data": {
      "text/plain": [
       "<pymongo.results.InsertManyResult at 0x1e4baf6bf40>"
      ]
     },
     "execution_count": 10,
     "metadata": {},
     "output_type": "execute_result"
    }
   ],
   "source": [
    "# inserting many documents in to the collection using insert_many function\n",
    "detail2 = [{\n",
    "            \"Name\":\"Arun kumar\",\n",
    "            \"Phone_no\":7413589632,\n",
    "            \"Place\" : \"Bangalore\",\n",
    "            \"Designation\":\"Business Analyst\"},\n",
    "           {\n",
    "           \"Name\":\"Ashwin kannan\",\n",
    "            \"Phone_no\":9942901257,\n",
    "            \"Place\" : \"Chennai\",\n",
    "            \"Designation\":\"Assistant Professor\"},\n",
    "           {\n",
    "           \"Name\":\"Riyanshika\",\n",
    "            \"Phone_no\":9456147345,\n",
    "            \"Place\" : \"Bangalore\",\n",
    "            \"Designation\":\"Bank Manager\"},\n",
    "           {\n",
    "             \"Name\":\"Saranya\",\n",
    "            \"Phone_no\":8645274166,\n",
    "            \"Place\" : \"Mumbai\",\n",
    "            \"Designation\":\"Sales Executive\"},\n",
    "           {\n",
    "            \"Name\":\"Rajah\",\n",
    "            \"Phone_no\":9487531699,\n",
    "            \"Place\" : \"Chennai\",\n",
    "            \"Designation\":\"Business\"}]\n",
    "newcol.insert_many(detail2)\n"
   ]
  },
  {
   "cell_type": "code",
   "execution_count": 11,
   "id": "bd355a45",
   "metadata": {},
   "outputs": [
    {
     "name": "stdout",
     "output_type": "stream",
     "text": [
      "{'_id': ObjectId('63b6c65a3c8e7f61d0000912'), 'Name': 'Sangeetha', 'Phone_no': 9456801253, 'Place': 'Chennai', 'Designation': 'Advocate'}\n",
      "{'_id': ObjectId('63b6c6d53c8e7f61d0000913'), 'Name': 'Arun', 'Phone_no': 7412589632, 'Place': 'Bangalore', 'Designation': 'Business'}\n",
      "{'_id': ObjectId('63b6c6d53c8e7f61d0000914'), 'Name': 'Ashwin', 'Phone_no': 9942901253, 'Place': 'Chennai', 'Designation': 'Professor'}\n",
      "{'_id': ObjectId('63b6c6d53c8e7f61d0000915'), 'Name': 'Riya', 'Phone_no': 9456812345, 'Place': 'Bangalore', 'Designation': 'Bank Employee'}\n",
      "{'_id': ObjectId('63b6c6d53c8e7f61d0000916'), 'Name': 'Saran', 'Phone_no': 8645274125, 'Place': 'Mumbai', 'Designation': 'Sales Executive'}\n",
      "{'_id': ObjectId('63b6c6d53c8e7f61d0000917'), 'Name': 'Shewatha', 'Phone_no': 9146701253, 'Place': 'Chennai', 'Designation': 'Bank Manager'}\n",
      "{'_id': ObjectId('63b6c78e3c8e7f61d0000918'), 'Name': 'Arun kumar', 'Phone_no': 7413589632, 'Place': 'Bangalore', 'Designation': 'Business Analyst'}\n",
      "{'_id': ObjectId('63b6c78e3c8e7f61d0000919'), 'Name': 'Ashwin kannan', 'Phone_no': 9942901257, 'Place': 'Chennai', 'Designation': 'Assistant Professor'}\n",
      "{'_id': ObjectId('63b6c78e3c8e7f61d000091a'), 'Name': 'Riyanshika', 'Phone_no': 9456147345, 'Place': 'Bangalore', 'Designation': 'Bank Manager'}\n",
      "{'_id': ObjectId('63b6c78e3c8e7f61d000091b'), 'Name': 'Saranya', 'Phone_no': 8645274166, 'Place': 'Mumbai', 'Designation': 'Sales Executive'}\n",
      "{'_id': ObjectId('63b6c78e3c8e7f61d000091c'), 'Name': 'Rajah', 'Phone_no': 9487531699, 'Place': 'Chennai', 'Designation': 'Business'}\n"
     ]
    }
   ],
   "source": [
    "for i in newcol.find():\n",
    "    print(i)"
   ]
  },
  {
   "cell_type": "code",
   "execution_count": 12,
   "id": "52cf8a54",
   "metadata": {},
   "outputs": [
    {
     "name": "stdout",
     "output_type": "stream",
     "text": [
      "{'Name': 'Sangeetha', 'Phone_no': 9456801253, 'Place': 'Chennai', 'Designation': 'Advocate'}\n",
      "{'Name': 'Arun', 'Phone_no': 7412589632, 'Place': 'Bangalore', 'Designation': 'Business'}\n",
      "{'Name': 'Ashwin', 'Phone_no': 9942901253, 'Place': 'Chennai', 'Designation': 'Professor'}\n",
      "{'Name': 'Riya', 'Phone_no': 9456812345, 'Place': 'Bangalore', 'Designation': 'Bank Employee'}\n",
      "{'Name': 'Saran', 'Phone_no': 8645274125, 'Place': 'Mumbai', 'Designation': 'Sales Executive'}\n",
      "{'Name': 'Shewatha', 'Phone_no': 9146701253, 'Place': 'Chennai', 'Designation': 'Bank Manager'}\n",
      "{'Name': 'Arun kumar', 'Phone_no': 7413589632, 'Place': 'Bangalore', 'Designation': 'Business Analyst'}\n",
      "{'Name': 'Ashwin kannan', 'Phone_no': 9942901257, 'Place': 'Chennai', 'Designation': 'Assistant Professor'}\n",
      "{'Name': 'Riyanshika', 'Phone_no': 9456147345, 'Place': 'Bangalore', 'Designation': 'Bank Manager'}\n",
      "{'Name': 'Saranya', 'Phone_no': 8645274166, 'Place': 'Mumbai', 'Designation': 'Sales Executive'}\n",
      "{'Name': 'Rajah', 'Phone_no': 9487531699, 'Place': 'Chennai', 'Designation': 'Business'}\n"
     ]
    }
   ],
   "source": [
    "for document in newcol.find({},{\"_id\":0}):\n",
    "    print(document)"
   ]
  },
  {
   "cell_type": "code",
   "execution_count": 13,
   "id": "75b5e18c",
   "metadata": {},
   "outputs": [
    {
     "name": "stdout",
     "output_type": "stream",
     "text": [
      "{'Name': 'Sangeetha'}\n",
      "{'Name': 'Arun'}\n",
      "{'Name': 'Ashwin'}\n",
      "{'Name': 'Riya'}\n",
      "{'Name': 'Saran'}\n",
      "{'Name': 'Shewatha'}\n",
      "{'Name': 'Arun kumar'}\n",
      "{'Name': 'Ashwin kannan'}\n",
      "{'Name': 'Riyanshika'}\n",
      "{'Name': 'Saranya'}\n",
      "{'Name': 'Rajah'}\n"
     ]
    }
   ],
   "source": [
    "for document in newcol.find({},{\"_id\":0,\"Name\":1}):\n",
    "    print(document)"
   ]
  },
  {
   "cell_type": "code",
   "execution_count": 14,
   "id": "ed62d1bd",
   "metadata": {},
   "outputs": [
    {
     "name": "stdout",
     "output_type": "stream",
     "text": [
      "{'Name': 'Sangeetha', 'Phone_no': 9456801253, 'Place': 'Chennai', 'Designation': 'Advocate'}\n"
     ]
    }
   ],
   "source": [
    "# READ operation\n",
    "for document in newcol.find({\"Name\":\"Sangeetha\",\"Place\":\"Chennai\"},{\"_id\":0}):\n",
    "    print(document)"
   ]
  },
  {
   "cell_type": "code",
   "execution_count": 15,
   "id": "94ec4f5c",
   "metadata": {},
   "outputs": [
    {
     "name": "stdout",
     "output_type": "stream",
     "text": [
      "{'Name': 'Sangeetha', 'Phone_no': 9456801253, 'Place': 'Chennai', 'Designation': 'Advocate'}\n",
      "{'Name': 'Saran', 'Phone_no': 8645274125, 'Place': 'Mumbai', 'Designation': 'Sales Executive'}\n",
      "{'Name': 'Shewatha', 'Phone_no': 9146701253, 'Place': 'Chennai', 'Designation': 'Bank Manager'}\n",
      "{'Name': 'Saranya', 'Phone_no': 8645274166, 'Place': 'Mumbai', 'Designation': 'Sales Executive'}\n"
     ]
    }
   ],
   "source": [
    "for document in newcol.find({\"Name\":{\"$gt\":\"S\"}},{\"_id\":0}):\n",
    "    print(document)"
   ]
  },
  {
   "cell_type": "code",
   "execution_count": 16,
   "id": "56bedb82",
   "metadata": {},
   "outputs": [
    {
     "name": "stdout",
     "output_type": "stream",
     "text": [
      "{'Name': 'Arun', 'Phone_no': 7412589632, 'Place': 'Bangalore', 'Designation': 'Business'}\n",
      "{'Name': 'Ashwin', 'Phone_no': 9942901253, 'Place': 'Chennai', 'Designation': 'Professor'}\n",
      "{'Name': 'Arun kumar', 'Phone_no': 7413589632, 'Place': 'Bangalore', 'Designation': 'Business Analyst'}\n",
      "{'Name': 'Ashwin kannan', 'Phone_no': 9942901257, 'Place': 'Chennai', 'Designation': 'Assistant Professor'}\n"
     ]
    }
   ],
   "source": [
    "for document in newcol.find({\"Name\":{\"$lt\":\"R\"}},{\"_id\":0}):\n",
    "    print(document)"
   ]
  },
  {
   "cell_type": "code",
   "execution_count": 17,
   "id": "cad2eb8e",
   "metadata": {},
   "outputs": [
    {
     "name": "stdout",
     "output_type": "stream",
     "text": [
      "{'Name': 'Arun', 'Phone_no': 7412589632, 'Place': 'Bangalore', 'Designation': 'Business'}\n",
      "{'Name': 'Arun kumar', 'Phone_no': 7413589632, 'Place': 'Bangalore', 'Designation': 'Business Analyst'}\n",
      "{'Name': 'Ashwin', 'Phone_no': 9942901253, 'Place': 'Chennai', 'Designation': 'Professor'}\n",
      "{'Name': 'Ashwin kannan', 'Phone_no': 9942901257, 'Place': 'Chennai', 'Designation': 'Assistant Professor'}\n",
      "{'Name': 'Rajah', 'Phone_no': 9487531699, 'Place': 'Chennai', 'Designation': 'Business'}\n",
      "{'Name': 'Riya', 'Phone_no': 9456812345, 'Place': 'Bangalore', 'Designation': 'Bank Employee'}\n",
      "{'Name': 'Riyanshika', 'Phone_no': 9456147345, 'Place': 'Bangalore', 'Designation': 'Bank Manager'}\n",
      "{'Name': 'Sangeetha', 'Phone_no': 9456801253, 'Place': 'Chennai', 'Designation': 'Advocate'}\n",
      "{'Name': 'Saran', 'Phone_no': 8645274125, 'Place': 'Mumbai', 'Designation': 'Sales Executive'}\n",
      "{'Name': 'Saranya', 'Phone_no': 8645274166, 'Place': 'Mumbai', 'Designation': 'Sales Executive'}\n",
      "{'Name': 'Shewatha', 'Phone_no': 9146701253, 'Place': 'Chennai', 'Designation': 'Bank Manager'}\n"
     ]
    }
   ],
   "source": [
    "for document in newcol.find({},{\"_id\":0}).sort(\"Name\"):\n",
    "   print(document)"
   ]
  },
  {
   "cell_type": "code",
   "execution_count": 23,
   "id": "445bbfaa",
   "metadata": {},
   "outputs": [
    {
     "name": "stdout",
     "output_type": "stream",
     "text": [
      "{'Name': 'Sangeetha Ravikumar', 'Phone_no': 9456801253, 'Place': 'Chennai', 'Designation': 'Advocate'}\n",
      "{'Name': 'Arun', 'Phone_no': 7412589632, 'Place': 'Bangalore', 'Designation': 'Business'}\n",
      "{'Name': 'Ashwin', 'Phone_no': 9942901253, 'Place': 'Chennai', 'Designation': 'Professor'}\n",
      "{'Name': 'Riya', 'Phone_no': 9456812345, 'Place': 'Bangalore', 'Designation': 'Bank Employee'}\n",
      "{'Name': 'Saran', 'Phone_no': 8645274125, 'Place': 'Mumbai', 'Designation': 'Sales Executive'}\n",
      "{'Name': 'Shewatha', 'Phone_no': 9146701253, 'Place': 'Chennai', 'Designation': 'Bank Manager'}\n",
      "{'Name': 'Arun kumar', 'Phone_no': 7413589632, 'Place': 'Bangalore', 'Designation': 'Business Analyst'}\n",
      "{'Name': 'Ashwin kannan', 'Phone_no': 9942901257, 'Place': 'Chennai', 'Designation': 'Assistant Professor'}\n",
      "{'Name': 'Riyanshika', 'Phone_no': 9456147345, 'Place': 'Bangalore', 'Designation': 'Bank Manager'}\n",
      "{'Name': 'Saranya', 'Phone_no': 8645274166, 'Place': 'Mumbai', 'Designation': 'Sales Executive'}\n",
      "{'Name': 'Rajah', 'Phone_no': 9487531699, 'Place': 'Chennai', 'Designation': 'Business'}\n"
     ]
    }
   ],
   "source": [
    "# UPDATE Operation---- Updating one document at a time\n",
    "old_data = {\"Name\":\"Sangeetha\"}\n",
    "new_data = {\"$set\":{\"Name\":\"Sangeetha Ravikumar\"}}\n",
    "newcol.update_one(old_data,new_data)\n",
    "for document in newcol.find({},{\"_id\":0}):\n",
    "    print(document)\n"
   ]
  },
  {
   "cell_type": "code",
   "execution_count": 26,
   "id": "d2e205dc",
   "metadata": {},
   "outputs": [
    {
     "name": "stdout",
     "output_type": "stream",
     "text": [
      "{'Name': 'Sangeetha Ravikumar', 'Phone_no': 9456801253, 'Place': 'Chennai', 'Designation': 'Advocate', 'Age': '35'}\n",
      "{'Name': 'Arun', 'Phone_no': 7412589632, 'Place': 'Bangalore', 'Designation': 'Business'}\n",
      "{'Name': 'Ashwin', 'Phone_no': 9942901253, 'Place': 'Chennai', 'Designation': 'Professor'}\n",
      "{'Name': 'Riya', 'Phone_no': 9456812345, 'Place': 'Bangalore', 'Designation': 'Bank Employee'}\n",
      "{'Name': 'Saran', 'Phone_no': 8645274125, 'Place': 'Mumbai', 'Designation': 'Sales Executive'}\n",
      "{'Name': 'Shewatha', 'Phone_no': 9146701253, 'Place': 'Chennai', 'Designation': 'Bank Manager'}\n",
      "{'Name': 'Arun kumar', 'Phone_no': 7413589632, 'Place': 'Bangalore', 'Designation': 'Business Analyst'}\n",
      "{'Name': 'Ashwin kannan', 'Phone_no': 9942901257, 'Place': 'Chennai', 'Designation': 'Assistant Professor'}\n",
      "{'Name': 'Riyanshika', 'Phone_no': 9456147345, 'Place': 'Bangalore', 'Designation': 'Bank Manager'}\n",
      "{'Name': 'Saranya', 'Phone_no': 8645274166, 'Place': 'Mumbai', 'Designation': 'Sales Executive'}\n",
      "{'Name': 'Rajah', 'Phone_no': 9487531699, 'Place': 'Chennai', 'Designation': 'Business'}\n"
     ]
    }
   ],
   "source": [
    "old_data = {\"Name\":\"Sangeetha Ravikumar\"}\n",
    "new_data = {\"$set\":{\"Age\":\"35\"}}\n",
    "newcol.update_one(old_data,new_data)\n",
    "for document in newcol.find({},{\"_id\":0}):\n",
    "    print(document)"
   ]
  },
  {
   "cell_type": "code",
   "execution_count": 28,
   "id": "006f18ec",
   "metadata": {},
   "outputs": [
    {
     "name": "stdout",
     "output_type": "stream",
     "text": [
      "{'Name': 'Sangeetha Ravikumar', 'Phone_no': 9456801253, 'Place': 'Chennai', 'Designation': 'Advocate', 'Age': '35'}\n",
      "{'Name': 'Arun', 'Phone_no': 7412589632, 'Place': 'Bangalore', 'Designation': 'Business'}\n",
      "{'Name': 'Ashwin', 'Phone_no': 9942901253, 'Place': 'Chennai', 'Designation': 'Professor'}\n",
      "{'Name': 'Riya', 'Phone_no': 9456812345, 'Place': 'Bangalore', 'Designation': 'Bank Employee'}\n",
      "{'Name': 'Saran', 'Phone_no': 8645274125, 'Place': 'Mumbai', 'Designation': 'Sales Executive'}\n",
      "{'Name': 'Shewatha', 'Phone_no': 9146701253, 'Place': 'Chennai', 'Designation': 'Bank Manager'}\n",
      "{'Name': 'Arun kumar', 'Phone_no': 7413589632, 'Place': 'Bangalore', 'Designation': 'Business Analyst'}\n",
      "{'Name': 'Ashwin kannan', 'Phone_no': 9942901257, 'Place': 'Chennai', 'Designation': 'Assistant Professor'}\n",
      "{'Name': 'Riyanshika', 'Phone_no': 9456147345, 'Place': 'Bangalore', 'Designation': 'Bank Manager'}\n",
      "{'Name': 'Saranya', 'Phone_no': 8645274166, 'Place': 'Mumbai', 'Designation': 'Sales Executive'}\n",
      "{'Name': 'Rajah', 'Phone_no': 9487531699, 'Place': 'Chennai', 'Designation': 'Business'}\n"
     ]
    }
   ],
   "source": [
    "old_data = {\"Name\":\"Ravi\"}\n",
    "new_data = {\"$set\":{\"Age\":42,\"Qualification\":\"Post Doctrate\"}}\n",
    "newcol.update_one(old_data,new_data)\n",
    "for document in newcol.find({},{\"_id\":0}):\n",
    "    print(document)\n"
   ]
  },
  {
   "cell_type": "code",
   "execution_count": 30,
   "id": "b4288ed8",
   "metadata": {},
   "outputs": [
    {
     "name": "stdout",
     "output_type": "stream",
     "text": [
      "{'Name': 'Sangeetha Ravikumar', 'Place': 'North Chennai'}\n",
      "{'Name': 'Arun', 'Place': 'Bangalore'}\n",
      "{'Name': 'Ashwin', 'Place': 'North Chennai'}\n",
      "{'Name': 'Riya', 'Place': 'Bangalore'}\n",
      "{'Name': 'Saran', 'Place': 'Mumbai'}\n",
      "{'Name': 'Shewatha', 'Place': 'North Chennai'}\n",
      "{'Name': 'Arun kumar', 'Place': 'Bangalore'}\n",
      "{'Name': 'Ashwin kannan', 'Place': 'North Chennai'}\n",
      "{'Name': 'Riyanshika', 'Place': 'Bangalore'}\n",
      "{'Name': 'Saranya', 'Place': 'Mumbai'}\n",
      "{'Name': 'Rajah', 'Place': 'North Chennai'}\n"
     ]
    }
   ],
   "source": [
    "#updating many documents at a time\n",
    "old_data = {\"Place\":\"Chennai\"}\n",
    "new_data = {\"$set\":{\"Place\":\"North Chennai\"}}\n",
    "newcol.update_many(old_data,new_data)\n",
    "for document in newcol.find({},{\"_id\":0,\"Name\":1,\"Place\":1}):\n",
    "    print(document)\n"
   ]
  },
  {
   "cell_type": "code",
   "execution_count": 31,
   "id": "6539cbac",
   "metadata": {},
   "outputs": [
    {
     "data": {
      "text/plain": [
       "<pymongo.results.DeleteResult at 0x1e4b959fdc0>"
      ]
     },
     "execution_count": 31,
     "metadata": {},
     "output_type": "execute_result"
    }
   ],
   "source": [
    "#Delete operation---- Deleting one document at a time\n",
    "newcol.delete_one({\"Name\":\"Ravi\"})\n",
    "\n"
   ]
  },
  {
   "cell_type": "code",
   "execution_count": 32,
   "id": "f9717ec4",
   "metadata": {},
   "outputs": [
    {
     "name": "stdout",
     "output_type": "stream",
     "text": [
      "{'Name': 'Sangeetha Ravikumar', 'Phone_no': 9456801253, 'Place': 'North Chennai', 'Designation': 'Advocate', 'Age': '35'}\n",
      "{'Name': 'Arun', 'Phone_no': 7412589632, 'Place': 'Bangalore', 'Designation': 'Business'}\n",
      "{'Name': 'Ashwin', 'Phone_no': 9942901253, 'Place': 'North Chennai', 'Designation': 'Professor'}\n",
      "{'Name': 'Riya', 'Phone_no': 9456812345, 'Place': 'Bangalore', 'Designation': 'Bank Employee'}\n",
      "{'Name': 'Saran', 'Phone_no': 8645274125, 'Place': 'Mumbai', 'Designation': 'Sales Executive'}\n",
      "{'Name': 'Shewatha', 'Phone_no': 9146701253, 'Place': 'North Chennai', 'Designation': 'Bank Manager'}\n",
      "{'Name': 'Arun kumar', 'Phone_no': 7413589632, 'Place': 'Bangalore', 'Designation': 'Business Analyst'}\n",
      "{'Name': 'Ashwin kannan', 'Phone_no': 9942901257, 'Place': 'North Chennai', 'Designation': 'Assistant Professor'}\n",
      "{'Name': 'Riyanshika', 'Phone_no': 9456147345, 'Place': 'Bangalore', 'Designation': 'Bank Manager'}\n",
      "{'Name': 'Saranya', 'Phone_no': 8645274166, 'Place': 'Mumbai', 'Designation': 'Sales Executive'}\n",
      "{'Name': 'Rajah', 'Phone_no': 9487531699, 'Place': 'North Chennai', 'Designation': 'Business'}\n"
     ]
    }
   ],
   "source": [
    "for document in newcol.find({},{\"_id\":0}):\n",
    "    print(document)"
   ]
  },
  {
   "cell_type": "code",
   "execution_count": 33,
   "id": "e2c1600e",
   "metadata": {},
   "outputs": [
    {
     "data": {
      "text/plain": [
       "<pymongo.results.DeleteResult at 0x1e4bc6833d0>"
      ]
     },
     "execution_count": 33,
     "metadata": {},
     "output_type": "execute_result"
    }
   ],
   "source": [
    "# deleting many documents at a time.\n",
    "newcol.delete_many({\"Place\":\"North Chennai\"})"
   ]
  },
  {
   "cell_type": "code",
   "execution_count": 34,
   "id": "9eca2b3c",
   "metadata": {},
   "outputs": [
    {
     "name": "stdout",
     "output_type": "stream",
     "text": [
      "{'Name': 'Arun', 'Phone_no': 7412589632, 'Place': 'Bangalore', 'Designation': 'Business'}\n",
      "{'Name': 'Riya', 'Phone_no': 9456812345, 'Place': 'Bangalore', 'Designation': 'Bank Employee'}\n",
      "{'Name': 'Saran', 'Phone_no': 8645274125, 'Place': 'Mumbai', 'Designation': 'Sales Executive'}\n",
      "{'Name': 'Arun kumar', 'Phone_no': 7413589632, 'Place': 'Bangalore', 'Designation': 'Business Analyst'}\n",
      "{'Name': 'Riyanshika', 'Phone_no': 9456147345, 'Place': 'Bangalore', 'Designation': 'Bank Manager'}\n",
      "{'Name': 'Saranya', 'Phone_no': 8645274166, 'Place': 'Mumbai', 'Designation': 'Sales Executive'}\n"
     ]
    }
   ],
   "source": [
    "for document in newcol.find({},{\"_id\":0}):\n",
    "    print(document)"
   ]
  },
  {
   "cell_type": "code",
   "execution_count": null,
   "id": "03828d21",
   "metadata": {},
   "outputs": [],
   "source": [
    "#Deleting the entire collection\n",
    "newcol.delete_many({})\n",
    "for document in newcol.find({},{\"_id\":0}):\n",
    "    print(document)"
   ]
  },
  {
   "cell_type": "code",
   "execution_count": null,
   "id": "b6a05780",
   "metadata": {},
   "outputs": [],
   "source": [
    "# DROP collection\n",
    "# Details.drop()"
   ]
  },
  {
   "cell_type": "code",
   "execution_count": null,
   "id": "bdefc39a",
   "metadata": {},
   "outputs": [],
   "source": [
    "#DROP Database\n",
    "#client.drop_database(\"Telephone_task\")\n"
   ]
  }
 ],
 "metadata": {
  "kernelspec": {
   "display_name": "Python 3 (ipykernel)",
   "language": "python",
   "name": "python3"
  },
  "language_info": {
   "codemirror_mode": {
    "name": "ipython",
    "version": 3
   },
   "file_extension": ".py",
   "mimetype": "text/x-python",
   "name": "python",
   "nbconvert_exporter": "python",
   "pygments_lexer": "ipython3",
   "version": "3.10.7"
  }
 },
 "nbformat": 4,
 "nbformat_minor": 5
}
